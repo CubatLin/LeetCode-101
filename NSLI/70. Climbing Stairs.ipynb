{
 "cells": [
  {
   "cell_type": "markdown",
   "metadata": {},
   "source": [
    "You are climbing a staircase. It takes n steps to reach the top.\n",
    "\n",
    "Each time you can either climb 1 or 2 steps. In how many distinct ways can you climb to the top?"
   ]
  },
  {
   "cell_type": "markdown",
   "metadata": {},
   "source": [
    "```\n",
    "hint:\n",
    "\n",
    "1 1+1 1+1+1  1+1+1+1\n",
    "   2    2+1   2+1+1\n",
    "        1+2   1+2+1\n",
    "              1+1+2\n",
    "              2+2\n",
    "-------------------\n",
    "1 2     3     5       8....\n",
    "```\n",
    "* 可以得知n是Fibo的級數 F(n)=F(n-1)+F(n-2) \n",
    "* 可以用DP, Recursion來解....但是看看以下秀滿臉的解答"
   ]
  },
  {
   "cell_type": "markdown",
   "metadata": {},
   "source": [
    "#### LeetCode Solution\n",
    "```\n",
    "class Solution:\n",
    "    def climbStairs(self, n: int) -> int:\n",
    "    \ta, b = 1, 1\n",
    "    \tfor i in range(n): a, b = b, a + b\n",
    "    \treturn a\n",
    "```"
   ]
  }
 ],
 "metadata": {
  "kernelspec": {
   "display_name": "Python 3",
   "language": "python",
   "name": "python3"
  },
  "language_info": {
   "codemirror_mode": {
    "name": "ipython",
    "version": 3
   },
   "file_extension": ".py",
   "mimetype": "text/x-python",
   "name": "python",
   "nbconvert_exporter": "python",
   "pygments_lexer": "ipython3",
   "version": "3.7.4"
  }
 },
 "nbformat": 4,
 "nbformat_minor": 2
}
