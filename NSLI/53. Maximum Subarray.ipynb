{
 "cells": [
  {
   "cell_type": "markdown",
   "metadata": {},
   "source": [
    "Given an integer array nums, find the contiguous subarray (containing at least one number) which has the largest sum and return its sum."
   ]
  },
  {
   "cell_type": "markdown",
   "metadata": {},
   "source": [
    "## Time Limit Exceeded \n",
    "* 動態用tmp_list在array與list中間轉換, 如果長度越長, 時間花費會過久"
   ]
  },
  {
   "cell_type": "markdown",
   "metadata": {},
   "source": [
    "```\n",
    "import numpy as np\n",
    "class Solution:\n",
    "    def maxSubArray(self, nums: List[int]) -> int:\n",
    "        max_sum = nums[0]\n",
    "        tmp_list = [nums[0]]\n",
    "        for i in range(1,len(nums)):\n",
    "            #先加再append\n",
    "            tmp_list = list(np.array(tmp_list) + nums[i])\n",
    "            tmp_list.append(nums[i])\n",
    "            #找大\n",
    "            tmp_max = max(tmp_list+[nums[i]])\n",
    "            if tmp_max> max_sum:\n",
    "                max_sum = tmp_max\n",
    "        return max_sum\n",
    "```"
   ]
  },
  {
   "cell_type": "markdown",
   "metadata": {},
   "source": [
    "#### LeetCode Solution\n",
    "* 遍歷整個數組, 然後每次都找從0到i的subarray中數字最大者,一個for能解決\n",
    "* 但是要重複query不同長度的subarray, arr_space[0:i+1]越大的話很浪費查詢空間"
   ]
  },
  {
   "cell_type": "code",
   "execution_count": 1,
   "metadata": {},
   "outputs": [
    {
     "name": "stdout",
     "output_type": "stream",
     "text": [
      "[-2.]\n",
      "[-1.  1.]\n",
      "[-4. -2. -3.]\n",
      "[0. 2. 1. 4.]\n"
     ]
    },
    {
     "data": {
      "text/plain": [
       "4"
      ]
     },
     "execution_count": 1,
     "metadata": {},
     "output_type": "execute_result"
    }
   ],
   "source": [
    "import numpy as np\n",
    "def maxSubArray(nums):\n",
    "    arr_space = np.zeros(len(nums))\n",
    "    max_num = nums[0]\n",
    "    for i in range(len(nums)):\n",
    "        \n",
    "        arr_space[0:i+1] = arr_space[0:i+1]+nums[i]\n",
    "        print(arr_space[0:i+1])\n",
    "        tmp_max = arr_space[0:i+1].max()\n",
    "        if tmp_max> max_num:\n",
    "            max_num = tmp_max\n",
    "        \n",
    "    return int(max_num)\n",
    "\n",
    "maxSubArray([-2,1,-3,4])"
   ]
  },
  {
   "cell_type": "markdown",
   "metadata": {},
   "source": [
    "```\n",
    "import numpy as np\n",
    "class Solution:\n",
    "    def maxSubArray(self, nums: List[int]) -> int:\n",
    "        arr_space = np.zeros(len(nums))\n",
    "        max_num = nums[0]\n",
    "        for i in range(len(nums)):\n",
    "            arr_space[0:i+1] = arr_space[0:i+1]+nums[i]\n",
    "            tmp_max = arr_space[0:i+1].max()\n",
    "            if tmp_max> max_num:\n",
    "                max_num = tmp_max\n",
    "\n",
    "        return int(max_num)\n",
    "        ```"
   ]
  },
  {
   "cell_type": "markdown",
   "metadata": {},
   "source": [
    "#### Better Solution"
   ]
  },
  {
   "cell_type": "code",
   "execution_count": 2,
   "metadata": {},
   "outputs": [
    {
     "name": "stdout",
     "output_type": "stream",
     "text": [
      "當前i:  1\n",
      "當前i:  4\n"
     ]
    },
    {
     "data": {
      "text/plain": [
       "4"
      ]
     },
     "execution_count": 2,
     "metadata": {},
     "output_type": "execute_result"
    }
   ],
   "source": [
    "import numpy as np\n",
    "def maxSubArray(nums):\n",
    "    newSums = totalSums = nums[0]\n",
    "    for i in range(1,len(nums)):\n",
    "        #如果有的話代表nums[i]一個數字比以前的subarray任意加總都還大\n",
    "        #就不用看i以前的subarray\n",
    "        if nums[i]> newSums + nums[i]:\n",
    "            print('當前i: ', nums[i])\n",
    "        newSums = max(nums[i] , newSums + nums[i])\n",
    "        totalSums = max(newSums,totalSums)\n",
    "    return totalSums\n",
    "    \n",
    "maxSubArray([-2,1,-3,4])"
   ]
  },
  {
   "cell_type": "markdown",
   "metadata": {},
   "source": [
    "```\n",
    "class Solution:\n",
    "    def maxSubArray(self, nums: List[int]) -> int:        \n",
    "        newNum = maxTotal = nums[0]        \n",
    "\n",
    "        for i in range(1, len(nums)):\n",
    "            newNum = max(nums[i], nums[i] + newNum)\n",
    "            maxTotal = max(newNum, maxTotal)\n",
    "\n",
    "        return maxTotal\n",
    "        ```"
   ]
  }
 ],
 "metadata": {
  "kernelspec": {
   "display_name": "Python 3",
   "language": "python",
   "name": "python3"
  },
  "language_info": {
   "codemirror_mode": {
    "name": "ipython",
    "version": 3
   },
   "file_extension": ".py",
   "mimetype": "text/x-python",
   "name": "python",
   "nbconvert_exporter": "python",
   "pygments_lexer": "ipython3",
   "version": "3.7.4"
  }
 },
 "nbformat": 4,
 "nbformat_minor": 2
}
