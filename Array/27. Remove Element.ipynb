{
 "cells": [
  {
   "cell_type": "markdown",
   "metadata": {},
   "source": [
    "* Input: nums = [3,2,2,3], val = 3\n",
    "* Output: 2, nums = [2,2]\n",
    "* Explanation: Your function should return length = 2, with the first two elements of nums being 2.\n",
    "* It doesn't matter what you leave beyond the returned length. For example if you return 2 with nums = [2,2,3,3] or nums = [2,2,0,0], your answer will be accepted."
   ]
  },
  {
   "cell_type": "markdown",
   "metadata": {},
   "source": [
    "``` \n",
    "class Solution:\n",
    "    def removeElement(self, nums: List[int], val: int) -> int:\n",
    "        # two-pointers\n",
    "        # others_idx: index for other elements\n",
    "        # target_idx: index for target elements with val\n",
    "        others_idx, target_idx = 0, len(nums)-1\n",
    "        \n",
    "        while others_idx <= target_idx:\n",
    "            if nums[others_idx] == val:\n",
    "                # swap target elements to the tail side\n",
    "                nums[others_idx], nums[target_idx] = nums[target_idx], nums[others_idx]\n",
    "                target_idx -= 1\n",
    "            else:\n",
    "                # increase the index when we meet others\n",
    "                others_idx += 1\n",
    "        # length of others is the answer\n",
    "        return others_idx\n",
    "``` "
   ]
  },
  {
   "cell_type": "markdown",
   "metadata": {},
   "source": [
    "### 重點: 雙指針法\n",
    "https://mp.weixin.qq.com/s/wj0T-Xs88_FHJFwayElQlA"
   ]
  },
  {
   "cell_type": "code",
   "execution_count": 1,
   "metadata": {},
   "outputs": [
    {
     "data": {
      "text/plain": [
       "5"
      ]
     },
     "execution_count": 1,
     "metadata": {},
     "output_type": "execute_result"
    }
   ],
   "source": [
    "test = [0,1,2,2,3,0,4,2]\n",
    "target = 2\n",
    "\n",
    "def TwoPointer(nums,tar):\n",
    "    l_idx = 0 ;r_idx =len(nums)-1\n",
    "    while l_idx<=r_idx:\n",
    "        if nums[l_idx]==tar:\n",
    "            nums[l_idx] , nums[r_idx] =nums[r_idx] , nums[l_idx] #一直往後放\n",
    "            r_idx-=1          \n",
    "        else :\n",
    "            l_idx+=1\n",
    "    return l_idx\n",
    "\n",
    "\n",
    "TwoPointer(test,target)"
   ]
  },
  {
   "cell_type": "code",
   "execution_count": 2,
   "metadata": {},
   "outputs": [
    {
     "data": {
      "text/plain": [
       "[0, 1, 4, 0, 3]"
      ]
     },
     "execution_count": 2,
     "metadata": {},
     "output_type": "execute_result"
    }
   ],
   "source": [
    "test = [0,1,2,2,3,0,4,2]\n",
    "target = 2\n",
    "\n",
    "def TwoPointer(nums,tar):\n",
    "    l_idx = 0 ;r_idx =len(nums)-1\n",
    "    while l_idx<=r_idx:\n",
    "        if nums[l_idx]==tar:\n",
    "            nums[l_idx] , nums[r_idx] =nums[r_idx] , nums[l_idx] #一直往後放\n",
    "            r_idx-=1          \n",
    "        else :\n",
    "            l_idx+=1\n",
    "    return nums[0:l_idx]\n",
    "\n",
    "\n",
    "TwoPointer(test,target)"
   ]
  }
 ],
 "metadata": {
  "kernelspec": {
   "display_name": "Python 3",
   "language": "python",
   "name": "python3"
  },
  "language_info": {
   "codemirror_mode": {
    "name": "ipython",
    "version": 3
   },
   "file_extension": ".py",
   "mimetype": "text/x-python",
   "name": "python",
   "nbconvert_exporter": "python",
   "pygments_lexer": "ipython3",
   "version": "3.7.4"
  }
 },
 "nbformat": 4,
 "nbformat_minor": 2
}
