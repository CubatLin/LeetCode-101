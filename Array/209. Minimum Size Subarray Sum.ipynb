{
 "cells": [
  {
   "cell_type": "markdown",
   "metadata": {},
   "source": [
    "Given an array of positive integers nums and a positive integer target, return the minimal length of a contiguous subarray [numsl, numsl+1, ..., numsr-1, numsr] of which the sum is greater than or equal to target. If there is no such subarray, return 0 instead."
   ]
  },
  {
   "cell_type": "code",
   "execution_count": 1,
   "metadata": {},
   "outputs": [],
   "source": [
    "target = 7\n",
    "nums = [2,3,1,2,4,3]\n",
    "\n",
    "i_start=0\n",
    "tmp_sum = 0\n",
    "res = float('inf')"
   ]
  },
  {
   "cell_type": "code",
   "execution_count": 2,
   "metadata": {},
   "outputs": [
    {
     "name": "stdout",
     "output_type": "stream",
     "text": [
      "i_start:  0 i: 3\n",
      "i_start:  2 i: 4\n",
      "i_start:  4 i: 5\n"
     ]
    }
   ],
   "source": [
    "for i in range(len(nums)):\n",
    "    tmp_sum+= nums[i] #先加\n",
    "    #當子序列的sum大於target, 更新i_start & 存tmp_sum\n",
    "    while tmp_sum>=target:\n",
    "        subLength = (i - i_start + 1)\n",
    "        if tmp_sum >=target:\n",
    "            if subLength<res:\n",
    "                res = subLength\n",
    "                print('i_start: ',i_start,'i:', i )\n",
    "        tmp_sum-=nums[i_start]\n",
    "        i_start+=1"
   ]
  },
  {
   "cell_type": "code",
   "execution_count": 6,
   "metadata": {},
   "outputs": [],
   "source": [
    "def Minimum_Size_Subarray_Sum(target,nums):\n",
    "    #init\n",
    "    i_start=0;tmp_sum = 0\n",
    "    res = float('inf')\n",
    "    for i in range(len(nums)):\n",
    "        tmp_sum+= nums[i] #先加\n",
    "        #當子序列的sum大於target, 更新i_start & 存tmp_sum\n",
    "        while tmp_sum>=target:\n",
    "            subLength = (i - i_start + 1)\n",
    "            if tmp_sum >=target:\n",
    "                if subLength<res:\n",
    "                    res = subLength\n",
    "                    print('i_start: ',i_start,'i:', i )\n",
    "            tmp_sum-=nums[i_start]\n",
    "            i_start+=1\n",
    "    return (0 if res ==float('inf') else res)"
   ]
  },
  {
   "cell_type": "code",
   "execution_count": 4,
   "metadata": {},
   "outputs": [
    {
     "name": "stdout",
     "output_type": "stream",
     "text": [
      "i_start:  2 i: 4\n",
      "i_start:  4 i: 5\n"
     ]
    },
    {
     "data": {
      "text/plain": [
       "2"
      ]
     },
     "execution_count": 4,
     "metadata": {},
     "output_type": "execute_result"
    }
   ],
   "source": [
    "Minimum_Size_Subarray_Sum(7,[2,3,1,2,4,3]) "
   ]
  },
  {
   "cell_type": "code",
   "execution_count": 7,
   "metadata": {},
   "outputs": [
    {
     "name": "stdout",
     "output_type": "stream",
     "text": [
      "i_start:  0 i: 4\n",
      "i_start:  1 i: 4\n",
      "i_start:  2 i: 4\n"
     ]
    },
    {
     "data": {
      "text/plain": [
       "3"
      ]
     },
     "execution_count": 7,
     "metadata": {},
     "output_type": "execute_result"
    }
   ],
   "source": [
    "Minimum_Size_Subarray_Sum(11,[1,2,3,4,5]) "
   ]
  },
  {
   "cell_type": "markdown",
   "metadata": {},
   "source": [
    "### 雙指針法\n",
    "https://mp.weixin.qq.com/s/UrZynlqi4QpyLlLhBPglyg"
   ]
  },
  {
   "cell_type": "markdown",
   "metadata": {},
   "source": [
    "```\n",
    "class Solution:\n",
    "    def minSubArrayLen(self, target: int, nums: List[int]) -> int:\n",
    "        #init\n",
    "        i_start=0;tmp_sum = 0\n",
    "        res = float('inf')\n",
    "        for i in range(len(nums)):\n",
    "            tmp_sum+= nums[i] #先加\n",
    "            #當子序列的sum大於target, 更新i_start & 存tmp_sum\n",
    "            while tmp_sum>=target:\n",
    "                subLength = (i - i_start + 1)\n",
    "                if tmp_sum >=target:\n",
    "                    if subLength<res:\n",
    "                        res = subLength\n",
    "                        print('i_start: ',i_start,'i:', i )\n",
    "                tmp_sum-=nums[i_start]\n",
    "                i_start+=1\n",
    "        return (0 if res ==float('inf') else res)\n",
    "```"
   ]
  }
 ],
 "metadata": {
  "kernelspec": {
   "display_name": "Python 3",
   "language": "python",
   "name": "python3"
  },
  "language_info": {
   "codemirror_mode": {
    "name": "ipython",
    "version": 3
   },
   "file_extension": ".py",
   "mimetype": "text/x-python",
   "name": "python",
   "nbconvert_exporter": "python",
   "pygments_lexer": "ipython3",
   "version": "3.7.4"
  }
 },
 "nbformat": 4,
 "nbformat_minor": 2
}
