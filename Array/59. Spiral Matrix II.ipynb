{
 "cells": [
  {
   "cell_type": "code",
   "execution_count": 1,
   "metadata": {},
   "outputs": [],
   "source": [
    "n = 3"
   ]
  },
  {
   "cell_type": "code",
   "execution_count": 2,
   "metadata": {},
   "outputs": [],
   "source": [
    "def Spiral_Matrix_II(n):\n",
    "    if not n: \n",
    "        return []\n",
    "    if n==1:\n",
    "        return [1]\n",
    "\n",
    "    left,right = 0,n-1 #左閉右開\n",
    "    top,bottom = 0,n-1 #上閉下開\n",
    "    k=1 \n",
    "    direction=0\n",
    "    res = [[0]*n for i in range(n)]\n",
    "\n",
    "    while left <= right and top<=bottom:\n",
    "        if direction==0:\n",
    "            for j in range(left,right+1):\n",
    "                res[top][j]=k\n",
    "                k+=1\n",
    "            top+=1\n",
    "            direction=1\n",
    "        elif direction==1:\n",
    "            for i in range(top,bottom+1):\n",
    "                res[i][right]=k\n",
    "                k+=1\n",
    "            right-=1\n",
    "            direction=2\n",
    "        elif direction==2:\n",
    "            for j in range(right,left-1,-1):\n",
    "                res[bottom][j]=k\n",
    "                k+=1\n",
    "            bottom-=1\n",
    "            direction=3\n",
    "        elif direction==3:\n",
    "            for i in range(bottom,top-1,-1):\n",
    "                res[i][left]=k\n",
    "                k+=1\n",
    "            left+=1\n",
    "            direction=0\n",
    "    return res"
   ]
  },
  {
   "cell_type": "code",
   "execution_count": 3,
   "metadata": {},
   "outputs": [
    {
     "data": {
      "text/plain": [
       "[[1, 2, 3], [8, 9, 4], [7, 6, 5]]"
      ]
     },
     "execution_count": 3,
     "metadata": {},
     "output_type": "execute_result"
    }
   ],
   "source": [
    "Spiral_Matrix_II(3)"
   ]
  },
  {
   "cell_type": "markdown",
   "metadata": {},
   "source": [
    "```\n",
    "class Solution:\n",
    "    def generateMatrix(self, n: int) -> List[List[int]]:\n",
    "        if not n: \n",
    "            return []\n",
    "        if n==1:\n",
    "            return [[1]]\n",
    "\n",
    "        left,right = 0,n-1 #左閉右開\n",
    "        top,bottom = 0,n-1 #上閉下開\n",
    "        k=1 \n",
    "        direction=0\n",
    "        res = [[0]*n for i in range(n)]\n",
    "\n",
    "        while left <= right and top<=bottom:\n",
    "            if direction==0:\n",
    "                for j in range(left,right+1):\n",
    "                    res[top][j]=k\n",
    "                    k+=1\n",
    "                top+=1\n",
    "                direction=1\n",
    "            elif direction==1:\n",
    "                for i in range(top,bottom+1):\n",
    "                    res[i][right]=k\n",
    "                    k+=1\n",
    "                right-=1\n",
    "                direction=2\n",
    "            elif direction==2:\n",
    "                for j in range(right,left-1,-1):\n",
    "                    res[bottom][j]=k\n",
    "                    k+=1\n",
    "                bottom-=1\n",
    "                direction=3\n",
    "            elif direction==3:\n",
    "                for i in range(bottom,top-1,-1):\n",
    "                    res[i][left]=k\n",
    "                    k+=1\n",
    "                left+=1\n",
    "                direction=0\n",
    "        return res        \n",
    "```"
   ]
  }
 ],
 "metadata": {
  "kernelspec": {
   "display_name": "Python 3",
   "language": "python",
   "name": "python3"
  },
  "language_info": {
   "codemirror_mode": {
    "name": "ipython",
    "version": 3
   },
   "file_extension": ".py",
   "mimetype": "text/x-python",
   "name": "python",
   "nbconvert_exporter": "python",
   "pygments_lexer": "ipython3",
   "version": "3.7.4"
  }
 },
 "nbformat": 4,
 "nbformat_minor": 2
}
