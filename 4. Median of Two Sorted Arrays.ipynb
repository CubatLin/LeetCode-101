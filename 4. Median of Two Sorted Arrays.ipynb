{
 "cells": [
  {
   "cell_type": "markdown",
   "metadata": {},
   "source": [
    "### Link\n",
    "* https://leetcode.com/problems/median-of-two-sorted-arrays/"
   ]
  },
  {
   "cell_type": "code",
   "execution_count": null,
   "metadata": {},
   "outputs": [],
   "source": [
    "class Solution:\n",
    "    def findMedianSortedArrays(self, nums1: List[int], nums2: List[int]) -> float:\n",
    "        freq_dic = collections.defaultdict(int) #must use\n",
    "        for i in nums1:\n",
    "            freq_dic[i]+=1\n",
    "        for i in nums2:\n",
    "            freq_dic[i]+=1\n",
    "        sorted_array = []\n",
    "        for key, key_freq in sorted(freq_dic.items(), key=lambda item: item[0]):\n",
    "            sorted_array.extend([key] * key_freq)\n",
    "\n",
    "        arr_len = len(sorted_array)\n",
    "        if arr_len % 2 == 0:\n",
    "            return ( (sorted_array[int(arr_len/2)-1]+sorted_array[int(arr_len/2)]) /2)\n",
    "        else:\n",
    "            return (sorted_array[int(arr_len/2)])"
   ]
  },
  {
   "cell_type": "code",
   "execution_count": 1,
   "metadata": {},
   "outputs": [
    {
     "name": "stdout",
     "output_type": "stream",
     "text": [
      "2\n"
     ]
    }
   ],
   "source": [
    "#奇數\n",
    "import collections\n",
    "nums1 = [1,3]\n",
    "nums2 = [2]\n",
    "\n",
    "freq_dic = collections.defaultdict(int) #must use\n",
    "for i in nums1:\n",
    "    freq_dic[i]+=1\n",
    "for i in nums2:\n",
    "    freq_dic[i]+=1\n",
    "\n",
    "sorted_array = []\n",
    "for key, key_freq in sorted(freq_dic.items(), key=lambda item: item[0]):\n",
    "    sorted_array.extend([key] * key_freq)\n",
    "\n",
    "arr_len = len(sorted_array)\n",
    "if arr_len % 2 == 0:\n",
    "    print ( (sorted_array[int(arr_len/2)-1]+sorted_array[int(arr_len/2)]) /2)\n",
    "else:\n",
    "    print (sorted_array[int(arr_len/2)])"
   ]
  },
  {
   "cell_type": "code",
   "execution_count": 2,
   "metadata": {},
   "outputs": [
    {
     "name": "stdout",
     "output_type": "stream",
     "text": [
      "2.0\n"
     ]
    }
   ],
   "source": [
    "#偶數\n",
    "import collections\n",
    "nums1 = [1,3]\n",
    "nums2 = [2,2]\n",
    "\n",
    "freq_dic = collections.defaultdict(int) #must use\n",
    "for i in nums1:\n",
    "    freq_dic[i]+=1\n",
    "for i in nums2:\n",
    "    freq_dic[i]+=1\n",
    "\n",
    "sorted_array = []\n",
    "for key, key_freq in sorted(freq_dic.items(), key=lambda item: item[0]):\n",
    "    sorted_array.extend([key] * key_freq)\n",
    "\n",
    "arr_len = len(sorted_array)\n",
    "if arr_len % 2 == 0:\n",
    "    print ( (sorted_array[int(arr_len/2)-1]+sorted_array[int(arr_len/2)]) /2)\n",
    "else:\n",
    "    print (sorted_array[int(arr_len/2)])"
   ]
  },
  {
   "cell_type": "code",
   "execution_count": 3,
   "metadata": {},
   "outputs": [
    {
     "name": "stdout",
     "output_type": "stream",
     "text": [
      "[1, 2, 2, 3]\n"
     ]
    }
   ],
   "source": [
    "print(sorted_array)"
   ]
  }
 ],
 "metadata": {
  "kernelspec": {
   "display_name": "Python 3",
   "language": "python",
   "name": "python3"
  },
  "language_info": {
   "codemirror_mode": {
    "name": "ipython",
    "version": 3
   },
   "file_extension": ".py",
   "mimetype": "text/x-python",
   "name": "python",
   "nbconvert_exporter": "python",
   "pygments_lexer": "ipython3",
   "version": "3.7.4"
  }
 },
 "nbformat": 4,
 "nbformat_minor": 2
}
