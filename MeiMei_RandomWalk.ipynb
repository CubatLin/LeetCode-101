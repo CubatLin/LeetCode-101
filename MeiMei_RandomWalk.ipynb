{
 "cells": [
  {
   "cell_type": "code",
   "execution_count": 21,
   "id": "cutting-robert",
   "metadata": {},
   "outputs": [],
   "source": [
    "'''\n",
    "1,2->-1\n",
    "3,4,5->+1\n",
    "6-> 1~6\n",
    "'''\n",
    "import numpy as np\n",
    "np.random.seed(123)"
   ]
  },
  {
   "cell_type": "code",
   "execution_count": 15,
   "id": "together-polyester",
   "metadata": {},
   "outputs": [
    {
     "name": "stdout",
     "output_type": "stream",
     "text": [
      "Total Step: 60\n",
      "--------\n",
      "Total Step: 73\n",
      "--------\n",
      "Total Step: 83\n",
      "--------\n",
      "Total Step: 68\n",
      "--------\n",
      "Total Step: 73\n",
      "--------\n",
      "Total Step: 106\n",
      "--------\n",
      "Total Step: 63\n",
      "--------\n",
      "Total Step: 76\n",
      "--------\n",
      "Total Step: 60\n",
      "--------\n",
      "Total Step: 87\n",
      "--------\n"
     ]
    }
   ],
   "source": [
    "time=0\n",
    "while time<10:\n",
    "    step=0\n",
    "    for n in range(100):\n",
    "        dice = np.random.randint(1,7)\n",
    "    \n",
    "    #1,2\n",
    "        if dice==1 or dice==2:\n",
    "            step = step-1\n",
    "            if step<0:\n",
    "                step=0\n",
    "            print('Step:',step)\n",
    "    #3,4,5\n",
    "        elif dice==3 or dice==4 or dice==5:\n",
    "            step = step+1\n",
    "            print('Step:',step)\n",
    "    #6\n",
    "        else:\n",
    "            step=step+np.random.randint(1,7)\n",
    "            print('Step:',step)\n",
    "\n",
    "\n",
    "            \n",
    "    print('Total Step:',step)\n",
    "    print('--------')\n",
    "    \n",
    "    time=time+1"
   ]
  },
  {
   "cell_type": "code",
   "execution_count": 22,
   "id": "insured-navigator",
   "metadata": {},
   "outputs": [
    {
     "name": "stdout",
     "output_type": "stream",
     "text": [
      "Dice: 6\n",
      "Step: 3\n",
      "------\n",
      "Dice: 5\n",
      "Step: 4\n",
      "------\n",
      "Dice: 3\n",
      "Step: 5\n",
      "------\n",
      "Dice: 2\n",
      "Step: 4\n",
      "------\n",
      "Dice: 4\n",
      "Step: 5\n",
      "------\n",
      "Dice: 3\n",
      "Step: 6\n",
      "------\n",
      "Dice: 4\n",
      "Step: 7\n",
      "------\n",
      "Dice: 2\n",
      "Step: 6\n",
      "------\n",
      "Dice: 2\n",
      "Step: 5\n",
      "------\n",
      "Dice: 1\n",
      "Step: 4\n",
      "------\n"
     ]
    }
   ],
   "source": [
    "his=[]\n",
    "step=0\n",
    "\n",
    "for n in range(10):\n",
    "    dice = np.random.randint(1,7)\n",
    "    print('Dice:',dice)\n",
    "    \n",
    "    fall_down = np.random.choice(np.arange(0, 2), p=[0.001, 0.999])\n",
    "    \n",
    "    #1\n",
    "    if fall_down==1:\n",
    "        #1,2\n",
    "        if dice==1 or dice==2:\n",
    "            step = step-1\n",
    "            if step<0:\n",
    "                step=0\n",
    "            print('Step:',step)\n",
    "        #3,4,5\n",
    "        elif dice==3 or dice==4 or dice==5:\n",
    "            step = step+1\n",
    "            print('Step:',step)\n",
    "        #6\n",
    "        else:\n",
    "            step=step+np.random.randint(1,7)\n",
    "            print('Step:',step)\n",
    "    \n",
    "    else:\n",
    "        step=0\n",
    "            \n",
    "    his.append(step)\n",
    "    print('------')\n",
    "\n"
   ]
  },
  {
   "cell_type": "code",
   "execution_count": 23,
   "id": "mental-james",
   "metadata": {},
   "outputs": [
    {
     "data": {
      "text/plain": [
       "[3, 4, 5, 4, 5, 6, 7, 6, 5, 4]"
      ]
     },
     "execution_count": 23,
     "metadata": {},
     "output_type": "execute_result"
    }
   ],
   "source": [
    "his"
   ]
  },
  {
   "cell_type": "code",
   "execution_count": 30,
   "id": "green-prison",
   "metadata": {},
   "outputs": [
    {
     "name": "stdout",
     "output_type": "stream",
     "text": [
      "1\n",
      "1\n",
      "1\n",
      "1\n",
      "1\n",
      "1\n",
      "1\n",
      "1\n",
      "0\n",
      "1\n"
     ]
    }
   ],
   "source": [
    "for i in range(10):\n",
    "    print(np.random.choice(np.arange(0, 2), p=[0.1, 0.9]) )"
   ]
  },
  {
   "cell_type": "code",
   "execution_count": 46,
   "id": "reported-content",
   "metadata": {},
   "outputs": [
    {
     "name": "stdout",
     "output_type": "stream",
     "text": [
      "False\n",
      "True\n",
      "False\n",
      "False\n",
      "False\n",
      "False\n",
      "False\n",
      "False\n",
      "False\n",
      "True\n"
     ]
    }
   ],
   "source": [
    "for i in range(10):\n",
    "    print(np.random.rand()<0.1)\n"
   ]
  },
  {
   "cell_type": "code",
   "execution_count": null,
   "id": "copyrighted-charge",
   "metadata": {},
   "outputs": [],
   "source": []
  }
 ],
 "metadata": {
  "kernelspec": {
   "display_name": "Python 3",
   "language": "python",
   "name": "python3"
  },
  "language_info": {
   "codemirror_mode": {
    "name": "ipython",
    "version": 3
   },
   "file_extension": ".py",
   "mimetype": "text/x-python",
   "name": "python",
   "nbconvert_exporter": "python",
   "pygments_lexer": "ipython3",
   "version": "3.8.5"
  }
 },
 "nbformat": 4,
 "nbformat_minor": 5
}
