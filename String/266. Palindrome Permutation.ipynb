{
 "cells": [
  {
   "attachments": {},
   "cell_type": "markdown",
   "metadata": {},
   "source": [
    "### 判斷字符可不可以透過重組來達成回文的條件\n",
    "* Example:\n",
    "    * code > false\n",
    "    * aab > true\n",
    "    * carerac > true\n",
    "\n",
    "* 思路:\n",
    "    * 如果字符串是奇數，則只能只有一個字母出現一次、其餘的都要偶數次\n",
    "    * 如果字符串是偶數，則每個字母出現的次數都只能偶數次（才可以對稱）\n"
   ]
  },
  {
   "cell_type": "code",
   "execution_count": 6,
   "metadata": {},
   "outputs": [],
   "source": [
    "import collections\n",
    "\n",
    "def result(s):\n",
    "    str_counter = collections.Counter(s); chance = 1\n",
    "\n",
    "    for char in str_counter:\n",
    "        # 要是回文的話每一個字串的次數都要是偶數次\n",
    "        if str_counter[char] %2 != 0:\n",
    "            # 不是的機會只有一次(因為只有奇數的case是准許一個字串是奇數次)\n",
    "            chance -= 1\n",
    "            if chance < 0:\n",
    "                return False\n",
    "    return True"
   ]
  },
  {
   "cell_type": "code",
   "execution_count": 7,
   "metadata": {},
   "outputs": [
    {
     "data": {
      "text/plain": [
       "False"
      ]
     },
     "execution_count": 7,
     "metadata": {},
     "output_type": "execute_result"
    }
   ],
   "source": [
    "s = 'code'\n",
    "result(s)"
   ]
  },
  {
   "cell_type": "code",
   "execution_count": 8,
   "metadata": {},
   "outputs": [
    {
     "data": {
      "text/plain": [
       "True"
      ]
     },
     "execution_count": 8,
     "metadata": {},
     "output_type": "execute_result"
    }
   ],
   "source": [
    "s = 'bba'\n",
    "result(s)"
   ]
  }
 ],
 "metadata": {
  "kernelspec": {
   "display_name": "base",
   "language": "python",
   "name": "python3"
  },
  "language_info": {
   "codemirror_mode": {
    "name": "ipython",
    "version": 3
   },
   "file_extension": ".py",
   "mimetype": "text/x-python",
   "name": "python",
   "nbconvert_exporter": "python",
   "pygments_lexer": "ipython3",
   "version": "3.9.10"
  },
  "orig_nbformat": 4
 },
 "nbformat": 4,
 "nbformat_minor": 2
}
