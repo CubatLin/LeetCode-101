{
 "cells": [
  {
   "cell_type": "markdown",
   "metadata": {},
   "source": [
    "### 151. Reverse Words in a String\n",
    "* Given an input string s, reverse the order of the words.\n",
    "\n",
    "* A word is defined as a sequence of non-space characters. The words in s will be separated by at least one space.\n",
    "\n",
    "* Return a string of the words in reverse order concatenated by a single space.\n",
    "\n",
    "* Note that s may contain leading or trailing spaces or multiple spaces between two words. The returned string should only have a single space separating the words. Do not include any extra spaces."
   ]
  },
  {
   "cell_type": "code",
   "execution_count": 1,
   "metadata": {},
   "outputs": [
    {
     "data": {
      "text/plain": [
       "'world hello'"
      ]
     },
     "execution_count": 1,
     "metadata": {},
     "output_type": "execute_result"
    }
   ],
   "source": [
    "s = \" hello world \"\n",
    "\" \".join(s.split()[::-1])"
   ]
  },
  {
   "cell_type": "markdown",
   "metadata": {},
   "source": [
    "### 题目：剑指Offer 05.替换空格\n",
    "* 请实现一个函数，把字符串 s 中的每个空格替换成\"%20\"。\n",
    "\n",
    "* 示例 1：\n",
    "    输入：s = \"We are happy.\"\n",
    "    输出：\"We%20are%20happy.\""
   ]
  },
  {
   "cell_type": "code",
   "execution_count": 1,
   "metadata": {},
   "outputs": [
    {
     "name": "stdout",
     "output_type": "stream",
     "text": [
      "We%20are%20happy\n"
     ]
    }
   ],
   "source": [
    "#替代空格\n",
    "s = \"We are happy\"\n",
    "res= ''\n",
    "i=len(s)-1\n",
    "while 0<=i:\n",
    "    if s[i]==' ':\n",
    "        res = '%20'+res\n",
    "    else :\n",
    "        res= s[i]+res\n",
    "    i-=1\n",
    "\n",
    "print(res)"
   ]
  },
  {
   "cell_type": "markdown",
   "metadata": {},
   "source": [
    "### 题目：剑指Offer58-II.左旋转字符串\n",
    "* 输入: s = \"lrloseumgh\", k = 6\n",
    "* 输出: \"umghlrlose\"\n"
   ]
  },
  {
   "cell_type": "code",
   "execution_count": 2,
   "metadata": {},
   "outputs": [
    {
     "name": "stdout",
     "output_type": "stream",
     "text": [
      "umghlrlose\n"
     ]
    }
   ],
   "source": [
    "s = \"lrloseumgh\"; k = 6\n",
    "res=''\n",
    "n=0\n",
    "while n <k:\n",
    "    res = res+s[n]\n",
    "    n+=1\n",
    "print(s[k:]+res)\n"
   ]
  }
 ],
 "metadata": {
  "kernelspec": {
   "display_name": "Python 3",
   "language": "python",
   "name": "python3"
  },
  "language_info": {
   "codemirror_mode": {
    "name": "ipython",
    "version": 3
   },
   "file_extension": ".py",
   "mimetype": "text/x-python",
   "name": "python",
   "nbconvert_exporter": "python",
   "pygments_lexer": "ipython3",
   "version": "3.7.4"
  }
 },
 "nbformat": 4,
 "nbformat_minor": 2
}
