{
 "cells": [
  {
   "attachments": {},
   "cell_type": "markdown",
   "metadata": {},
   "source": [
    "* Given a string `s`, return the longest palindromic substring in s."
   ]
  },
  {
   "cell_type": "code",
   "execution_count": null,
   "metadata": {},
   "outputs": [],
   "source": [
    "def LongestPalindromicSubstring(s: str):\n",
    "  # 1.先判斷該字串是否為一個字母，或是本身是迴文\n",
    "  if (len(s) <= 1) or s == s[::-1]:\n",
    "      return s\n",
    "  else:\n",
    "      # 紀錄開始的位置\n",
    "      startIndex = 1\n",
    "      # 紀錄目前最大迴文的長度\n",
    "      maxLen = 1\n",
    "      # 開始跑迴圈\n",
    "      for i in range(1 ,len(s)):\n",
    "          # 跑第一圈時，odd要找 s[-1:2]，even要找 s[0:2]\n",
    "          # 跑第二圈時，odd要找 s[0:3]，even要找 s[1:3]\n",
    "          # 跑第三圈時，odd要找 s[1:4]，even要找 s[2:4]\n",
    "          odd = s[i - maxLen - 1 : i + 1]\n",
    "          even = s[i - maxLen : i + 1]\n",
    "          # 判斷odd是否為迴文\n",
    "          if i - maxLen - 1 >= 0 and odd == odd[::-1]:\n",
    "              startIndex = i - maxLen - 1\n",
    "              maxLen += 2\n",
    "          elif i - maxLen >= 0 and even == even[::-1]:\n",
    "              startIndex = i - maxLen\n",
    "              maxLen += 1\n",
    "  return s[startIndex : startIndex + maxLen]\n"
   ]
  },
  {
   "cell_type": "code",
   "execution_count": 2,
   "metadata": {},
   "outputs": [],
   "source": [
    "s = '0abcba'"
   ]
  },
  {
   "cell_type": "code",
   "execution_count": 5,
   "metadata": {},
   "outputs": [
    {
     "data": {
      "text/plain": [
       "'0ab'"
      ]
     },
     "execution_count": 5,
     "metadata": {},
     "output_type": "execute_result"
    }
   ],
   "source": [
    "s[0:3]"
   ]
  },
  {
   "cell_type": "code",
   "execution_count": 7,
   "metadata": {},
   "outputs": [
    {
     "data": {
      "text/plain": [
       "'abcba'"
      ]
     },
     "execution_count": 7,
     "metadata": {},
     "output_type": "execute_result"
    }
   ],
   "source": [
    "# 紀錄開始的位置\n",
    "startIndex = 1\n",
    "# 紀錄目前最大迴文的長度\n",
    "maxLen = 1\n",
    "# 開始跑迴圈\n",
    "for i in range(1 ,len(s)):\n",
    "    # 跑第一圈時，odd要找 s[-1:2]，even要找 s[0:2]\n",
    "    # 跑第二圈時，odd要找 s[0:3]，even要找 s[1:3]\n",
    "    # 跑第三圈時，odd要找 s[1:4]，even要找 s[2:4]\n",
    "    odd = s[i - maxLen - 1 : i + 1]\n",
    "    even = s[i - maxLen : i + 1]\n",
    "    # 判斷odd是否為迴文\n",
    "    # i - maxLen - 1是左指針\n",
    "    if i - maxLen - 1 >= 0 and odd == odd[::-1]:\n",
    "        startIndex = i - maxLen - 1\n",
    "        maxLen += 2\n",
    "    # i - maxLen 是左指針   \n",
    "    elif i - maxLen >= 0 and even == even[::-1]:\n",
    "        startIndex = i - maxLen\n",
    "        maxLen += 1\n",
    "\n",
    "\n",
    "s[startIndex : startIndex + maxLen]"
   ]
  },
  {
   "cell_type": "code",
   "execution_count": null,
   "metadata": {},
   "outputs": [],
   "source": []
  }
 ],
 "metadata": {
  "kernelspec": {
   "display_name": "base",
   "language": "python",
   "name": "python3"
  },
  "language_info": {
   "codemirror_mode": {
    "name": "ipython",
    "version": 3
   },
   "file_extension": ".py",
   "mimetype": "text/x-python",
   "name": "python",
   "nbconvert_exporter": "python",
   "pygments_lexer": "ipython3",
   "version": "3.9.10"
  },
  "orig_nbformat": 4
 },
 "nbformat": 4,
 "nbformat_minor": 2
}
