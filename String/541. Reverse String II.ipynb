{
 "cells": [
  {
   "cell_type": "markdown",
   "metadata": {},
   "source": [
    "* Given a string s and an integer k, reverse the first k characters for every 2k characters counting from the start of the string.\n",
    "* If there are fewer than k characters left, reverse all of them. If there are less than 2k but greater than or equal to k characters, then reverse the first k characters and left the other as original.\n",
    "\n",
    "* 每間隔2k個字符, 反轉前k個字符"
   ]
  },
  {
   "cell_type": "markdown",
   "metadata": {},
   "source": [
    "* My Solution\n",
    "\n",
    "```\n",
    "class Solution:\n",
    "    def reverseStr(self, s: str, k: int) -> str:\n",
    "        i=0;res= ''\n",
    "        while i<len(s):\n",
    "            tmp=s[i:i+k]\n",
    "            res+=tmp[::-1]+s[i+k:i+2*k]\n",
    "            i+=2*k\n",
    "        return res\n",
    "```"
   ]
  },
  {
   "cell_type": "markdown",
   "metadata": {},
   "source": [
    "* 把一些test case放到前面,讓memory用量更少\n",
    "* https://leetcode.com/problems/reverse-string-ii/discuss/482766/easy-python-solution-beat-98-time-and-100-space\n",
    "```\n",
    "def reverseStr(self, s: str, k: int) -> str:\n",
    "        L = len(s)\n",
    "        if L<k: return s[::-1]\n",
    "        if L>k and L<=k*2:\n",
    "            return s[:k][::-1]+s[k:]\n",
    "        ans = ''\n",
    "        for i in range(0,L,2*k):\n",
    "            ans+=(s[i:i+k][::-1]+s[i+k:i+2*k])\n",
    "        return ans\n",
    "```"
   ]
  }
 ],
 "metadata": {
  "kernelspec": {
   "display_name": "Python 3",
   "language": "python",
   "name": "python3"
  },
  "language_info": {
   "codemirror_mode": {
    "name": "ipython",
    "version": 3
   },
   "file_extension": ".py",
   "mimetype": "text/x-python",
   "name": "python",
   "nbconvert_exporter": "python",
   "pygments_lexer": "ipython3",
   "version": "3.7.4"
  }
 },
 "nbformat": 4,
 "nbformat_minor": 2
}
