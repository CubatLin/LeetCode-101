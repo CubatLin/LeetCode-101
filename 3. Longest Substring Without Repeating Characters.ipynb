{
 "cells": [
  {
   "cell_type": "markdown",
   "metadata": {},
   "source": [
    "```\n",
    "class Solution(object):\n",
    "    def lengthOfLongestSubstring(self, s):\n",
    "        seen = ''\n",
    "        mx = 0\n",
    "\t\t#1. for each character in s\n",
    "        for c in s:\n",
    "\t\t\t#2. check if c is seen\n",
    "            if c not in seen:\n",
    "\t\t\t#3. if not seen, add to seen list \n",
    "                seen+=c\n",
    "            #4 if seen, slice seen list to previous c\n",
    "            # for example, if c is 'a' and seen list is 'abc'\n",
    "            # you will be slicing previous 'a'(seen.index(c)+1), thus seen list become 'bc'\n",
    "            # then add the current 'a' bc + a, seenlist = 'bca'\n",
    "            else:\n",
    "                seen = seen[seen.index(c) + 1:] + c\n",
    "            #5 check max length between current max with new length of seen\n",
    "            mx = max(mx, len(seen))\n",
    "        return mx\n",
    "```"
   ]
  }
 ],
 "metadata": {
  "kernelspec": {
   "display_name": "Python 3",
   "language": "python",
   "name": "python3"
  },
  "language_info": {
   "codemirror_mode": {
    "name": "ipython",
    "version": 3
   },
   "file_extension": ".py",
   "mimetype": "text/x-python",
   "name": "python",
   "nbconvert_exporter": "python",
   "pygments_lexer": "ipython3",
   "version": "3.7.4"
  }
 },
 "nbformat": 4,
 "nbformat_minor": 2
}
