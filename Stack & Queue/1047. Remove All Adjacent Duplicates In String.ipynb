{
 "cells": [
  {
   "cell_type": "markdown",
   "metadata": {},
   "source": [
    "You are given a string s. A duplicate removal consists of choosing two adjacent and equal letters and removing them.\n",
    "\n",
    "We repeatedly make duplicate removals on s until we no longer can.\n",
    "\n",
    "Return the final string after all such duplicate removals have been made. It is guaranteed the answer is unique.\n",
    "\n",
    " "
   ]
  },
  {
   "cell_type": "code",
   "execution_count": 1,
   "metadata": {},
   "outputs": [],
   "source": [
    "class Solution:\n",
    "    def removeDuplicates(self, s: str) -> str:\n",
    "        # if 沒東西 ->False/ if not 沒東西 ->True\n",
    "        if not s: return(\"\")\n",
    "        stack =[s[0]]\n",
    "        for i in s[1:]:\n",
    "            #如果stack沒有東西的話,會報錯,所以要在stack有東西才可以pop\n",
    "            #stack:[a], [a,b], [a], [] ->ERROR!\n",
    "            if stack and i==stack[-1]: \n",
    "                stack.pop()\n",
    "            else:\n",
    "                stack.append(i)\n",
    "        return(''.join(stack))"
   ]
  },
  {
   "cell_type": "code",
   "execution_count": 5,
   "metadata": {},
   "outputs": [],
   "source": [
    "test = Solution()"
   ]
  },
  {
   "cell_type": "code",
   "execution_count": 6,
   "metadata": {},
   "outputs": [
    {
     "data": {
      "text/plain": [
       "'ca'"
      ]
     },
     "execution_count": 6,
     "metadata": {},
     "output_type": "execute_result"
    }
   ],
   "source": [
    "test.removeDuplicates(\"abbaca\")"
   ]
  }
 ],
 "metadata": {
  "kernelspec": {
   "display_name": "Python 3",
   "language": "python",
   "name": "python3"
  },
  "language_info": {
   "codemirror_mode": {
    "name": "ipython",
    "version": 3
   },
   "file_extension": ".py",
   "mimetype": "text/x-python",
   "name": "python",
   "nbconvert_exporter": "python",
   "pygments_lexer": "ipython3",
   "version": "3.7.4"
  }
 },
 "nbformat": 4,
 "nbformat_minor": 2
}
