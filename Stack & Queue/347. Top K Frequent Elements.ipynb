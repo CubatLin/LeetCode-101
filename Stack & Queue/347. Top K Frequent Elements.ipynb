{
 "cells": [
  {
   "cell_type": "markdown",
   "id": "stupid-trance",
   "metadata": {},
   "source": [
    "https://mp.weixin.qq.com/s/8hMwxoE_BQRbzCc7CA8rng"
   ]
  },
  {
   "cell_type": "markdown",
   "id": "prerequisite-double",
   "metadata": {},
   "source": [
    "```\n",
    "class Solution:\n",
    "    def topKFrequent(self, nums: List[int], k: int) -> List[int]:\n",
    "        d = collections.defaultdict()\n",
    "        for i in nums:\n",
    "            if i not in d:\n",
    "                d[i]=1\n",
    "            else :\n",
    "                d[i]+=1\n",
    "        return [i[0] for i in sorted(d.items(), key=lambda x:x[1],reverse=True)[:k]]\n",
    "```"
   ]
  },
  {
   "cell_type": "code",
   "execution_count": 42,
   "id": "marked-thanksgiving",
   "metadata": {},
   "outputs": [
    {
     "name": "stdout",
     "output_type": "stream",
     "text": [
      "[('Bella', 50), ('Apple', 400), ('Joey', 600), ('2th King', 10000)]\n"
     ]
    }
   ],
   "source": [
    "k={'Apple':400,'Joey':600,'Bella':50,'2th King':10000}\n",
    "print(sorted(k.items(), key=lambda x:x[1]))"
   ]
  }
 ],
 "metadata": {
  "kernelspec": {
   "display_name": "Python 3",
   "language": "python",
   "name": "python3"
  },
  "language_info": {
   "codemirror_mode": {
    "name": "ipython",
    "version": 3
   },
   "file_extension": ".py",
   "mimetype": "text/x-python",
   "name": "python",
   "nbconvert_exporter": "python",
   "pygments_lexer": "ipython3",
   "version": "3.8.5"
  }
 },
 "nbformat": 4,
 "nbformat_minor": 5
}
