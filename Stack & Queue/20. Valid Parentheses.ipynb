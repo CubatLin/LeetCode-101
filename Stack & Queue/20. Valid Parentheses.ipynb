{
 "cells": [
  {
   "cell_type": "markdown",
   "metadata": {},
   "source": [
    "Given a string s containing just the characters '(', ')', '{', '}', '[' and ']', determine if the input string is valid.\n",
    "https://leetcode.com/problems/valid-parentheses/\n",
    "* An input string is valid if:\n",
    " 1. Open brackets must be closed by the same type of brackets.\n",
    " 2. Open brackets must be closed in the correct order."
   ]
  },
  {
   "cell_type": "code",
   "execution_count": 1,
   "metadata": {},
   "outputs": [],
   "source": [
    "class Solution(object):\n",
    "    def isValid(self, s):\n",
    "        s_dic = {\"{\":\"}\",\"[\":\"]\",\"(\":\")\"} \n",
    "        stack = []\n",
    "        for i in s:\n",
    "            if i in s_dic: # if字符是左括號,把對應右括號放到stack\n",
    "                stack.append(s_dic[i])\n",
    "            elif len(stack)==0 or i != stack.pop(): # else字符是右括號而且stack是空的(代表沒有左括號要對應) or 當前的右括號不匹配pop最右側的\n",
    "                return False\n",
    "        return (len(stack)==0) #for迴圈結束後,如果stack是空的,代表全部匹配完成 /有剩代表沒匹配完"
   ]
  },
  {
   "cell_type": "code",
   "execution_count": 3,
   "metadata": {},
   "outputs": [
    {
     "data": {
      "text/plain": [
       "False"
      ]
     },
     "execution_count": 3,
     "metadata": {},
     "output_type": "execute_result"
    }
   ],
   "source": [
    "test = Solution()\n",
    "test.isValid(\"(]\")"
   ]
  },
  {
   "cell_type": "code",
   "execution_count": 5,
   "metadata": {},
   "outputs": [
    {
     "data": {
      "text/plain": [
       "True"
      ]
     },
     "execution_count": 5,
     "metadata": {},
     "output_type": "execute_result"
    }
   ],
   "source": [
    "test.isValid(\"()\")"
   ]
  },
  {
   "cell_type": "code",
   "execution_count": 6,
   "metadata": {},
   "outputs": [
    {
     "data": {
      "text/plain": [
       "False"
      ]
     },
     "execution_count": 6,
     "metadata": {},
     "output_type": "execute_result"
    }
   ],
   "source": [
    "test.isValid(\"{[]}(\")"
   ]
  },
  {
   "cell_type": "markdown",
   "metadata": {},
   "source": [
    "```\n",
    "class Solution(object):\n",
    "    def isValid(self, s):\n",
    "        s_dic = {\"{\":\"}\",\"[\":\"]\",\"(\":\")\"}\n",
    "        stack = []\n",
    "        for i in s:\n",
    "            if i in s_dic: #append右括號\n",
    "                stack.append(s_dic[i])\n",
    "            elif len(stack)==0 or i != stack.pop():\n",
    "                return False\n",
    "        return (len(stack)==0)\n",
    "```"
   ]
  }
 ],
 "metadata": {
  "kernelspec": {
   "display_name": "Python 3",
   "language": "python",
   "name": "python3"
  },
  "language_info": {
   "codemirror_mode": {
    "name": "ipython",
    "version": 3
   },
   "file_extension": ".py",
   "mimetype": "text/x-python",
   "name": "python",
   "nbconvert_exporter": "python",
   "pygments_lexer": "ipython3",
   "version": "3.7.4"
  }
 },
 "nbformat": 4,
 "nbformat_minor": 2
}
