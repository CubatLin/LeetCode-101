{
 "cells": [
  {
   "cell_type": "markdown",
   "metadata": {},
   "source": [
    "Given an integer array nums, return all the triplets [nums[i], nums[j], nums[k]] such that i != j, i != k, and j != k, and nums[i] + nums[j] + nums[k] == 0."
   ]
  },
  {
   "cell_type": "markdown",
   "metadata": {},
   "source": [
    "* Runtime: 2272 ms, faster than 32.58% of Python3 online submissions for 3Sum.\n",
    "* Memory Usage: 17 MB, less than 93.75% of Python3 online submissions for 3Sum.\n",
    "```\n",
    "class Solution:\n",
    "    def threeSum(self, nums: List[int]) -> List[List[int]]:\n",
    "        nums = sorted(nums)\n",
    "        result = set()\n",
    "        for i in range(len(nums)):\n",
    "            l = i + 1\n",
    "            r = len(nums) - 1\n",
    "            target = 0 - nums[i]\n",
    "            while l < r:\n",
    "                if nums[l] + nums[r] == target:\n",
    "                    result.add((nums[i], nums[l], nums[r]))\n",
    "                    l += 1\n",
    "                    r -= 1\n",
    "                elif nums[l] + nums[r] < target:\n",
    "                    l += 1\n",
    "                else:\n",
    "                    r -= 1\n",
    "        return list(result)\n",
    "```"
   ]
  },
  {
   "cell_type": "markdown",
   "metadata": {},
   "source": [
    "### Two Pointers\n",
    "* Runtime: 6228 ms, faster than 6.56% of Python3 online submissions for 3Sum.\n",
    "* Memory Usage: 17.5 MB, less than 73.90% of Python3 online submissions for 3Sum."
   ]
  },
  {
   "cell_type": "markdown",
   "metadata": {},
   "source": [
    "```\n",
    "class Solution:\n",
    "    def threeSum(self, nums: List[int]) -> List[List[int]]:\n",
    "        if nums == []: return []\n",
    "        nums.sort()\n",
    "        #tmp_s = set()\n",
    "        res = []\n",
    "\n",
    "        for i in range(len(nums)):\n",
    "            left = i+1\n",
    "            right = len(nums)-1\n",
    "            while left < right :\n",
    "                if nums[i]+nums[left]+nums[right]<0:\n",
    "                    left+=1\n",
    "                elif nums[i]+nums[left]+nums[right]>0:\n",
    "                    right-=1\n",
    "                elif nums[i]+nums[left]+nums[right]==0:\n",
    "                    if [nums[i],nums[left],nums[right]] not in res :\n",
    "                        res = res+[[nums[i],nums[left],nums[right]]]\n",
    "                    left+=1\n",
    "                    right-=1        \n",
    "        return res\n",
    "```\n",
    "    \n",
    "\n",
    "\n",
    "\n"
   ]
  },
  {
   "cell_type": "markdown",
   "metadata": {},
   "source": [
    "* Runtime: 5608 ms, faster than 10.01% of Python3 online submissions for 3Sum.\n",
    "* Memory Usage: 17.6 MB, less than 50.33% of Python3 online submissions for 3Sum.\n",
    "\n",
    "```\n",
    "class Solution:\n",
    "    def threeSum(self, nums: List[int]) -> List[List[int]]:\n",
    "        if nums == []: return []\n",
    "        nums.sort()\n",
    "        #tmp_s = set()\n",
    "        res = []\n",
    "\n",
    "        for i in range(len(nums)):\n",
    "            left = i+1\n",
    "            right = len(nums)-1\n",
    "            target = 0-nums[i]\n",
    "            while left < right :\n",
    "                if nums[left]+nums[right]<target:\n",
    "                    left+=1\n",
    "                elif nums[left]+nums[right]>target:\n",
    "                    right-=1\n",
    "                elif nums[left]+nums[right]==target:\n",
    "                    if [nums[i],nums[left],nums[right]] not in res :\n",
    "                        res = res+[[nums[i],nums[left],nums[right]]]\n",
    "                    left+=1\n",
    "                    right-=1\n",
    "        return res\n",
    "```"
   ]
  }
 ],
 "metadata": {
  "kernelspec": {
   "display_name": "Python 3",
   "language": "python",
   "name": "python3"
  },
  "language_info": {
   "codemirror_mode": {
    "name": "ipython",
    "version": 3
   },
   "file_extension": ".py",
   "mimetype": "text/x-python",
   "name": "python",
   "nbconvert_exporter": "python",
   "pygments_lexer": "ipython3",
   "version": "3.7.4"
  }
 },
 "nbformat": 4,
 "nbformat_minor": 2
}
