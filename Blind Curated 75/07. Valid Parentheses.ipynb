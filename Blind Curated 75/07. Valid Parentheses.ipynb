{
 "cells": [
  {
   "cell_type": "markdown",
   "metadata": {},
   "source": [
    "```\n",
    "Given a string s containing just the characters '(', ')', '{', '}', '[' and ']', determine if the input string is valid.\n",
    "An input string is valid if:\n",
    "Open brackets must be closed by the same type of brackets.\n",
    "Open brackets must be closed in the correct order.\n",
    "Every close bracket has a corresponding open bracket of the same type.\n",
    " \n",
    "Example 1:\n",
    "Input: s = \"()\"\n",
    "Output: true\n",
    "\n",
    "Example 2:\n",
    "Input: s = \"()[]{}\"\n",
    "Output: true\n",
    "\n",
    "Example 3:\n",
    "Input: s = \"(]\"\n",
    "Output: false\n",
    "```"
   ]
  },
  {
   "cell_type": "markdown",
   "metadata": {},
   "source": [
    "### 原始錯誤的solution\n",
    "```\n",
    "您的代碼中有幾個問題需要修正：\n",
    "1. 您在迴圈中使用 s.pop(0) 會導致每次迭代都要重新整理列表，這會造成不必要的性能開銷。您可以直接迭代字符串 s 而不需要將它轉換為列表。\n",
    "2. 當您檢查右括號是否與棧頂的左括號匹配時，您需要先檢查棧是否為空，否則當棧為空時使用 stack[-1] 會導致錯誤。\n",
    "3. 您的代碼中將 s 轉換為列表後又沒有使用，這是不必要的。\n",
    "```"
   ]
  },
  {
   "cell_type": "code",
   "execution_count": null,
   "metadata": {},
   "outputs": [],
   "source": [
    "class Solution:\n",
    "    '''\n",
    "    問題難點情境:\n",
    "    --------\n",
    "    - 一開始s是字串, 我想用pop就要把他改成list去遍例\n",
    "\n",
    "    '''\n",
    "    def isValid(self, s: str) -> bool:\n",
    "        # edge case: 長度=1 or 一開始就是右括號\n",
    "        if len(s) == 1 or s[0] in set([')', ']', '}']):\n",
    "            return False\n",
    "        \n",
    "        s = [s for s in s]\n",
    "        stack = []\n",
    "        for i in range(len(s)):\n",
    "            # 每次都只pop最左側\n",
    "            elem = s.pop(0)\n",
    "            \n",
    "            # 左括弧塞到stack裡\n",
    "            if elem in set(['(', '[', '{']):\n",
    "                stack.append(elem)\n",
    "            # 右括弧檢查stack, 當這個iter的element與stack最右側的括號相同, 代表對稱\n",
    "            # 但這是錯的，因為有可能會有\"(){}}{\"這樣的case, 導致stack是空的時候, stack[-1]會是pop空的, 會有問題的\n",
    "            elif stack[-1]+elem in set(['()', '[]', '{}']):\n",
    "                stack.pop()\n",
    "            # 剩下的就是break\n",
    "            else:\n",
    "                return False\n",
    "        \n",
    "        # 最後還要檢查一下stack裡面有沒有東西, 有東西殘留的話就是return False\n",
    "        if stack: \n",
    "            return False\n",
    "        else: \n",
    "            return True\n"
   ]
  },
  {
   "cell_type": "markdown",
   "metadata": {},
   "source": [
    "### 被ChatGPT修正後\n",
    "```\n",
    "1. 長度奇數: 邏輯沒想到\n",
    "2. 線性邏輯下會從左括號想到右括號，但其實break條件是專注在右括號，所以未來好像以判斷邏輯去思考if else比較好？\n",
    "```"
   ]
  },
  {
   "cell_type": "code",
   "execution_count": null,
   "metadata": {},
   "outputs": [],
   "source": [
    "class Solution:\n",
    "    def isValid(self, s: str) -> bool:\n",
    "        # edge case: 長度為奇數或一開始就是右括號\n",
    "        if len(s) % 2 != 0 or s[0] in [')', ']', '}']:\n",
    "            return False\n",
    "        \n",
    "        # 創建一個字典來匹配括號\n",
    "        bracket_map = {')': '(', ']': '[', '}': '{'}\n",
    "        stack = []\n",
    "        \n",
    "        for char in s:\n",
    "            # --CHATGPT-- #\n",
    "            # if char in bracket_map:：這行代碼檢查當前字符 char 是否是一個閉括號（即是否為 ')'、']' 或 '}'）。bracket_map 是一個字典，將每個閉括號映射到對應的開括號。\n",
    "            # top_element = stack.pop() if stack else '#'：這行代碼嘗試從棧中取出最頂端的元素，這個元素應該是與當前閉括號對應的開括號。如果棧不為空（即 if stack 為真），則彈出（移除並返回）棧頂元素；如果棧為空，則將 top_element 設置為一個不會與任何有效括號匹配的值，這裡使用的是 '#'。\n",
    "            # if bracket_map[char] != top_element:：這行代碼檢查從 bracket_map 中取得的當前閉括號對應的開括號是否與從棧中取出的 top_element 相匹配。如果不匹配，則代表括號順序不正確或不完整，函數返回 False 表示字符串無效。\n",
    "\n",
    "            # 如果是右括號，檢查是否與棧頂的左括號匹配\n",
    "            if char in bracket_map:\n",
    "                top_element = stack.pop() if stack else '#'\n",
    "                if bracket_map[char] != top_element:\n",
    "                    return False\n",
    "            else:\n",
    "                # 如果是左括號，則放入棧中\n",
    "                stack.append(char)\n",
    "        \n",
    "        # 如果棧為空，則所有括號都有效匹配\n",
    "        return not stack\n"
   ]
  },
  {
   "cell_type": "code",
   "execution_count": null,
   "metadata": {},
   "outputs": [],
   "source": []
  }
 ],
 "metadata": {
  "language_info": {
   "name": "python"
  }
 },
 "nbformat": 4,
 "nbformat_minor": 2
}
