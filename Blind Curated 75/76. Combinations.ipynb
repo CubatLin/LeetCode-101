{
 "cells": [
  {
   "cell_type": "markdown",
   "metadata": {},
   "source": [
    "```\n",
    "Given two integers n and k, return all possible combinations of k numbers chosen from the range [1, n].\n",
    "You may return the answer in any order.\n",
    "\n",
    "Example 1:\n",
    "Input: n = 4, k = 2\n",
    "Output: [[1,2],[1,3],[1,4],[2,3],[2,4],[3,4]]\n",
    "Explanation: There are 4 choose 2 = 6 total combinations.\n",
    "Note that combinations are unordered, i.e., [1,2] and [2,1] are considered to be the same combination.\n",
    "\n",
    "Example 2:\n",
    "Input: n = 1, k = 1\n",
    "Output: [[1]]\n",
    "Explanation: There is 1 choose 1 = 1 total combination.\n",
    "```"
   ]
  },
  {
   "cell_type": "markdown",
   "metadata": {},
   "source": [
    "#### Time Limit Exceeded"
   ]
  },
  {
   "cell_type": "code",
   "execution_count": 7,
   "metadata": {},
   "outputs": [],
   "source": [
    "from typing import List"
   ]
  },
  {
   "cell_type": "code",
   "execution_count": 8,
   "metadata": {},
   "outputs": [],
   "source": [
    "class Solution:\n",
    "    def combine(self, n: int, k: int) -> List[List[int]]:\n",
    "        '''\n",
    "        問題難點情境:\n",
    "        --------\n",
    "        - 輸入1~n的數值, 找出1~n所有長度為k的組合\n",
    "        - 直覺是用遞迴的方式去改變, 但判斷當前的組合是否在裡面用sorted應該會蠻慢 > 直接time exceed\n",
    "        '''\n",
    "        def backtracking(end_num, comb_len, tmp_list, res):    \n",
    "            if len(tmp_list) == comb_len:\n",
    "                # 我全部都用sorted去檢查這個排列組合有沒有重複，應該有更快的寫法\n",
    "                if sorted(tmp_list) not in res: \n",
    "                    res.append(tmp_list)\n",
    "                    print(tmp_list)\n",
    "                return \n",
    "\n",
    "            for elem in range(1, end_num+1):\n",
    "                # 會有case是[1,1], [2,2]... > 所以先判斷elem沒有在tmp_list, 再往下走\n",
    "                if elem not in tmp_list:\n",
    "                    backtracking(end_num, comb_len, \n",
    "                                tmp_list+[elem], # 紀錄變化的組合\n",
    "                                res              # 回傳最後的結果\n",
    "                                )\n",
    "        \n",
    "        result = []\n",
    "        backtracking(end_num=n, comb_len=k, tmp_list=[], res=result)\n",
    "        return result\n",
    "\n",
    "Solution().combine(4, 2)"
   ]
  },
  {
   "cell_type": "code",
   "execution_count": 10,
   "metadata": {},
   "outputs": [
    {
     "data": {
      "text/plain": [
       "[[1, 2], [1, 3], [1, 4], [2, 3], [2, 4], [3, 4]]"
      ]
     },
     "execution_count": 10,
     "metadata": {},
     "output_type": "execute_result"
    }
   ],
   "source": [
    "class Solution:\n",
    "    def combine(self, n: int, k: int) -> List[List[int]]:\n",
    "        '''\n",
    "        問題難點情境:\n",
    "        --------\n",
    "        - 輸入1~n的數值, 找出1~n所有長度為k的組合\n",
    "        - 直覺是用遞迴的方式去改變, 但判斷當前的組合是否在裡面用set也沒救\n",
    "        '''\n",
    "        def backtracking(end_num, comb_len, tmp_list, res):    \n",
    "            if len(tmp_list) == comb_len:\n",
    "                # 我全部都用sorted去檢查這個排列組合有沒有重複，應該有更快的寫法\n",
    "                if set(tmp_list) not in res: \n",
    "                    res.append(set(tmp_list))\n",
    "                return \n",
    "\n",
    "            for elem in range(1, end_num+1):\n",
    "                # 會有case是[1,1], [2,2]... > 所以先判斷elem沒有在tmp_list, 再往下走\n",
    "                if elem not in tmp_list:\n",
    "                    backtracking(end_num, comb_len, \n",
    "                                tmp_list+[elem], # 紀錄變化的組合\n",
    "                                res              # 回傳最後的結果\n",
    "                                )\n",
    "        \n",
    "        result = []\n",
    "        backtracking(end_num=n, comb_len=k, tmp_list=[], res=result)\n",
    "        return [list(s) for s in result]\n",
    "\n",
    "Solution().combine(4, 2)"
   ]
  },
  {
   "cell_type": "markdown",
   "metadata": {},
   "source": [
    "#### LeetCode Solution\n",
    "```\n",
    "這段代碼的問題主要在於它沒有有效地剪枝(pruning)以避免不必要的計算，並且在每次遞迴時都使用了 sorted() 函數和 not in 檢查來確保沒有重複的組合，這大大增加了時間複雜度。此外，每次遞迴都創建一個新的 tmp_list 的副本也增加了空間複雜度。\n",
    "\n",
    "以下是一些改善的方法：\n",
    "1. 使用一個索引記錄當前元素的位置，避免重複計算。\n",
    "2. 直接傳遞當前組合的引用而不是創建一個新的列表副本。\n",
    "3. 透過遞迴的方式逐步構建每個組合，而不是每次都檢查整個列表是否已經存在於結果中。\n",
    "4. 只在當前元素之後的元素中選擇下一個元素，這樣可以保證組合是按照順序構建的，從而避免重複。\n",
    "```"
   ]
  },
  {
   "cell_type": "code",
   "execution_count": null,
   "metadata": {},
   "outputs": [],
   "source": [
    "class Solution:\n",
    "    def combine(self, n: int, k: int) -> List[List[int]]:\n",
    "        def backtracking(start, path):\n",
    "            # 如果當前組合的長度已經達到k，就添加到結果中\n",
    "            if len(path) == k:\n",
    "                res.append(path[:]) # 使用path[:]來複製當前路徑\n",
    "                return\n",
    "\n",
    "            # 從start開始遍歷，避免重複\n",
    "            for i in range(start, n + 1):\n",
    "                # 添加當前數字並繼續遞迴\n",
    "                path.append(i)\n",
    "                backtracking(i + 1, path)\n",
    "                # 回溯，移除最後一個元素\n",
    "                path.pop()\n",
    "\n",
    "        res = []\n",
    "        backtracking(1, [])\n",
    "        return res\n",
    "\n",
    "# 示例使用\n",
    "# sol = Solution()\n",
    "# print(sol.combine(n, k))\n"
   ]
  },
  {
   "cell_type": "code",
   "execution_count": null,
   "metadata": {},
   "outputs": [],
   "source": []
  },
  {
   "cell_type": "code",
   "execution_count": null,
   "metadata": {},
   "outputs": [],
   "source": []
  }
 ],
 "metadata": {
  "kernelspec": {
   "display_name": "base",
   "language": "python",
   "name": "python3"
  },
  "language_info": {
   "codemirror_mode": {
    "name": "ipython",
    "version": 3
   },
   "file_extension": ".py",
   "mimetype": "text/x-python",
   "name": "python",
   "nbconvert_exporter": "python",
   "pygments_lexer": "ipython3",
   "version": "3.9.10"
  }
 },
 "nbformat": 4,
 "nbformat_minor": 2
}
