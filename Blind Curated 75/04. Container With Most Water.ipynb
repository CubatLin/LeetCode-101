{
 "cells": [
  {
   "cell_type": "markdown",
   "metadata": {},
   "source": [
    "```\n",
    "Input: height = [1,8,6,2,5,4,8,3,7]\n",
    "Output: 49\n",
    "Explanation: The above vertical lines are represented by array [1,8,6,2,5,4,8,3,7]. In this case, the max area of water (blue section) the container can contain is 49.\n",
    "```"
   ]
  },
  {
   "cell_type": "code",
   "execution_count": null,
   "metadata": {},
   "outputs": [],
   "source": [
    "class Solution:\n",
    "    def maxArea(self, height: List[int]) -> int:\n",
    "        l = 0\n",
    "        r = len(height) - 1\n",
    "        res = 0\n",
    "\n",
    "        while l <= r:\n",
    "            tmp = min(height[l], height[r]) * (r - l)\n",
    "            if tmp > res:\n",
    "                res = tmp\n",
    "            # 直覺來講，往內擠寬度一定變小，所以要移動小根找更高的\n",
    "            if height[l] >= height[r]:\n",
    "                r -= 1\n",
    "            else:\n",
    "                l += 1\n",
    "        return res\n",
    "                    "
   ]
  }
 ],
 "metadata": {
  "language_info": {
   "name": "python"
  }
 },
 "nbformat": 4,
 "nbformat_minor": 2
}
