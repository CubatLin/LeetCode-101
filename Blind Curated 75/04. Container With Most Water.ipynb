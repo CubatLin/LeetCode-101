{
 "cells": [
  {
   "cell_type": "markdown",
   "metadata": {},
   "source": [
    "```\n",
    "Input: height = [1,8,6,2,5,4,8,3,7]\n",
    "Output: 49\n",
    "Explanation: The above vertical lines are represented by array [1,8,6,2,5,4,8,3,7]. In this case, the max area of water (blue section) the container can contain is 49.\n",
    "```"
   ]
  },
  {
   "cell_type": "markdown",
   "metadata": {},
   "source": [
    "* Brute Force: for loop 每個element(n), 針對右側的找次高相鄰數值&底部的寬(要找ｍ次), 最後比大小得到最大的裝水面積\n",
    "* 時間複雜度: O(n*m)\n",
    "* 為什麼two pointer可以降低？\n",
    "```\n",
    "使用 \"Two Pointer\"（雙指針）策略的主要目的是優化遍歷或搜索過程。在一些特定問題中，這種策略能夠顯著減少時間複雜度。以下是一些使用雙指針可能降低時間複雜度的情境：\n",
    "* 有序數組或列表\n",
    "當數組或列表是有序的，你可以用兩個指針分別從開始和結束向中間遍歷。這樣可以在O(n) 時間內解決一些本來需要 O(n^2) 時間的問題，例如找出數組中和為特定值的兩個數。\n",
    "\n",
    "* 不需要重複計算\n",
    "在某些問題中，如果一個指針移動到新的位置，與其重新計算所有相關的值，不如用之前的計算結果更新當前值。這樣也能夠減少計算量。\n",
    "\n",
    "* 雙向搜索\n",
    "對於某些問題，從兩端同時進行搜索比從一端開始搜索更有效率。例如，在\"尋找最大面積容器\"的問題中，由於面積受到高度和寬度的影響，使用兩個指針分別從兩端開始，並根據高度值的大小向中間移動，可以更快地找到可能的最大面積。\n",
    "\n",
    "狀態維護\n",
    "雙指針通常用於維護某種“狀態”，如子數組的和，這樣只需線性時間即可得到解。\n",
    "\n",
    "使用雙指針技巧的一個典型例子是上面提到的\"尋找最大面積容器\"問題。在這個問題中，如果使用暴力法，需要遍歷所有可能的容器組合，時間複雜度是 O(n^2)。但使用雙指針，只需要一次線性遍歷，即可在O(n) 時間內找到最大面積，大大提高了效率。\n",
    "\n",
    "```"
   ]
  },
  {
   "cell_type": "code",
   "execution_count": null,
   "metadata": {},
   "outputs": [],
   "source": [
    "class Solution:\n",
    "    def maxArea(self, height: List[int]) -> int:\n",
    "        l = 0\n",
    "        r = len(height) - 1\n",
    "        res = 0\n",
    "\n",
    "        while l <= r:\n",
    "            tmp = min(height[l], height[r]) * (r - l)\n",
    "            if tmp > res:\n",
    "                res = tmp\n",
    "            # 直覺來講，往內擠寬度一定變小，所以要移動小根找更高的\n",
    "            if height[l] >= height[r]:\n",
    "                r -= 1\n",
    "            else:\n",
    "                l += 1\n",
    "        return res\n",
    "                    "
   ]
  }
 ],
 "metadata": {
  "language_info": {
   "name": "python"
  }
 },
 "nbformat": 4,
 "nbformat_minor": 2
}
