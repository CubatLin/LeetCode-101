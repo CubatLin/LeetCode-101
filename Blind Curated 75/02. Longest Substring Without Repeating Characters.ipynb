{
 "cells": [
  {
   "cell_type": "code",
   "execution_count": 1,
   "metadata": {},
   "outputs": [],
   "source": [
    "class Solution(object):\n",
    "    def lengthOfLongestSubstring(self, s):\n",
    "        seen = ''\n",
    "        mx = 0\n",
    "\t\t#1. for each character in s\n",
    "        for i, c in enumerate(s):\n",
    "\t\t\t#2. check if c is seen\n",
    "            if c not in seen:\n",
    "\t\t\t#3. if not seen, add to seen string\n",
    "                seen+=c\n",
    "                print(f'if clause: {i} / seen: {seen}')\n",
    "            #4. if seen, slice seen list to previous c\n",
    "            # for example, if c is 'a' and seen list is 'abc'\n",
    "            # you will be slicing previous 'a'(seen.index(c)+1), thus seen list become 'bc'\n",
    "            # then add the current 'a' bc + a, seenlist = 'bca'\n",
    "            else:\n",
    "                seen = seen[seen.index(c) + 1:] + c\n",
    "                print(f'else clause: {i} / seen: {seen}')\n",
    "            #5 check max length between current max with new length of seen\n",
    "            mx = max(mx, len(seen))\n",
    "        print(f'\\nfinal seen:{seen}')\n",
    "        return mx"
   ]
  },
  {
   "cell_type": "code",
   "execution_count": 2,
   "metadata": {},
   "outputs": [
    {
     "name": "stdout",
     "output_type": "stream",
     "text": [
      "if clause: 0 / seen: a\n",
      "if clause: 1 / seen: ab\n",
      "if clause: 2 / seen: abc\n",
      "else clause: 3 / seen: bca\n",
      "if clause: 4 / seen: bcad\n",
      "else clause: 5 / seen: d\n",
      "else clause: 6 / seen: d\n",
      "if clause: 7 / seen: db\n",
      "if clause: 8 / seen: dbc\n",
      "if clause: 9 / seen: dbca\n",
      "if clause: 10 / seen: dbcae\n",
      "if clause: 11 / seen: dbcaef\n",
      "\n",
      "final seen:dbcaef\n"
     ]
    },
    {
     "data": {
      "text/plain": [
       "6"
      ]
     },
     "execution_count": 2,
     "metadata": {},
     "output_type": "execute_result"
    }
   ],
   "source": [
    "sol = Solution()\n",
    "sol.lengthOfLongestSubstring('abcadddbcaef')"
   ]
  },
  {
   "cell_type": "markdown",
   "metadata": {},
   "source": [
    "### 思路:\n",
    "* 因為我只要紀錄最長不重複字母的子字串，不用紀錄子字串本身。思考連續這個特性。\n",
    "* 一開始想的時候會想要紀錄過往以前的資訊，但其實不需要\n",
    "* 直覺來講，就是找一個字串中間有幾個seperate的不重複子字串，比較他們長度大小就好\n",
    "    *   if clause: 碰到沒碰過字符，加到當前的字串上\n",
    "    * else clause: 只要新的iter字符存在當前字串，代表這個新iter字符只有可能是另一個最長字串的element，所以直接選擇initial重新紀錄即可。"
   ]
  }
 ],
 "metadata": {
  "kernelspec": {
   "display_name": "Python 3",
   "language": "python",
   "name": "python3"
  },
  "language_info": {
   "codemirror_mode": {
    "name": "ipython",
    "version": 3
   },
   "file_extension": ".py",
   "mimetype": "text/x-python",
   "name": "python",
   "nbconvert_exporter": "python",
   "pygments_lexer": "ipython3",
   "version": "3.9.10"
  }
 },
 "nbformat": 4,
 "nbformat_minor": 2
}
