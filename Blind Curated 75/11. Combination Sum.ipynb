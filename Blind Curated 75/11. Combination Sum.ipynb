{
 "cells": [
  {
   "cell_type": "markdown",
   "metadata": {},
   "source": [
    "```\n",
    "Given an array of distinct integers candidates and a target integer target, return a list of all unique combinations of candidates where the chosen numbers sum to target. You may return the combinations in any order.\n",
    "The same number may be chosen from candidates an unlimited number of times. Two combinations are unique if the \n",
    "frequency of at least one of the chosen numbers is different.\n",
    "The test cases are generated such that the number of unique combinations that sum up to target is less than 150 combinations for the given input.\n",
    "\n",
    "Example 1:\n",
    "Input: candidates = [2,3,6,7], target = 7\n",
    "Output: [[2,2,3],[7]]\n",
    "Explanation:\n",
    "2 and 3 are candidates, and 2 + 2 + 3 = 7. Note that 2 can be used multiple times.\n",
    "7 is a candidate, and 7 = 7.\n",
    "These are the only two combinations.\n",
    "\n",
    "Example 2:\n",
    "Input: candidates = [2,3,5], target = 8\n",
    "Output: [[2,2,2,2],[2,3,3],[3,5]]\n",
    "\n",
    "Example 3:\n",
    "Input: candidates = [2], target = 1\n",
    "Output: []\n",
    "```"
   ]
  },
  {
   "cell_type": "markdown",
   "metadata": {},
   "source": [
    "### 原始錯誤的solution\n",
    "```\n",
    "您的代碼中有幾個問題需要修正：\n",
    "1. 您在迴圈中使用 s.pop(0) 會導致每次迭代都要重新整理列表，這會造成不必要的性能開銷。您可以直接迭代字符串 s 而不需要將它轉換為列表。\n",
    "2. 排序和重複檢查：在代碼中，每次當找到一個合法的組合（即組合中數字的和等於目標數字target）時，會將組合排序後檢查是否已存在於結果列表res中。這個檢查是在每次找到一個可能的組合後才進行的，而不是在添加新元素到組合comb之前進行。這會導致在遞歸過程中，即使組合已經存在於res中，仍然會進行後續的搜索。\n",
    "3. 沒有剪枝：在遞歸函數sol中，每次都是遍歷完整的candidates列表來添加新元素到組合comb中。這意味著，對於每一個元素，算法都會考慮所有的candidates，而不管它們是否會導致重複的組合。這種方法沒有考慮到已經選擇的元素，因此會生成重複的組合。\n",
    "4. 未記錄選擇的索引或路徑：一種常見的避免重複組合的方法是記錄每次遞歸時所選擇的元素索引，並只從當前索引或之後的元素中選擇新元素。但在這段代碼中，每次遞歸都可能選擇相同的元素，因此可能會生成重複的組合。\n",
    "```"
   ]
  },
  {
   "cell_type": "code",
   "execution_count": 1,
   "metadata": {},
   "outputs": [],
   "source": [
    "from typing import List\n",
    "\n",
    "class Solution:\n",
    "    def combinationSum(self, candidates: List[int], target: int) -> List[List[int]]:\n",
    "        def sol(candidates, target, comb, res):\n",
    "            '''\n",
    "            問題難點情境:\n",
    "            --------\n",
    "            - 一個distinct數列下, 列出所有candidates可能加起來=target的組合\n",
    "            - 因為一個element可以重複多次, 直覺就是dfs, 並用backtracking去刪除不會走下去的條件\n",
    "            \n",
    "            Params:\n",
    "            --------\n",
    "            - candidates: 所有可能成員\n",
    "            - target: 成員和加起來要等於多少\n",
    "            '''\n",
    "            # if 大於TARGET, return \n",
    "            if sum(comb) > target:\n",
    "                return\n",
    "\n",
    "            # if res = target, 需要紀錄不重複的部分\n",
    "            if sum(comb) == target:\n",
    "                # 這邊可以強化一下, 當這comb的升序長的跟裡面的某個相同, 不紀錄\n",
    "                # 這邊造成重複組合: \n",
    "                # target = 7; \n",
    "                # [3,2,2]排序後變成[2,2,3]> 被加入res的是[3,2,2]\n",
    "                # 接下來碰到[3,2,3] > 排序後[2,2,3]仍然不在res內\n",
    "                if sorted(comb) not in res:\n",
    "                    res.append(comb)\n",
    "                    return    \n",
    "                \n",
    "            # for loop for dfs\n",
    "            for elem in candidates:\n",
    "                sol(candidates, target, \n",
    "                    comb=comb+[elem], res=res)\n",
    "            \n",
    "            return res\n",
    "        \n",
    "        return sol(candidates=candidates, target=target, comb=[], res=[])"
   ]
  },
  {
   "cell_type": "code",
   "execution_count": 2,
   "metadata": {},
   "outputs": [
    {
     "name": "stdout",
     "output_type": "stream",
     "text": [
      "[[8, 3], [7, 4], [4, 7], [4, 4, 3], [4, 3, 4], [3, 8], [3, 4, 4]]\n"
     ]
    }
   ],
   "source": [
    "# 測試代碼\n",
    "candidates = [8, 7, 4, 3]\n",
    "target = 11\n",
    "\n",
    "solution = Solution()\n",
    "print(solution.combinationSum(candidates, target))"
   ]
  },
  {
   "cell_type": "markdown",
   "metadata": {},
   "source": [
    "#### LeetCode Solution"
   ]
  },
  {
   "cell_type": "code",
   "execution_count": 9,
   "metadata": {},
   "outputs": [
    {
     "name": "stdout",
     "output_type": "stream",
     "text": [
      "[[3, 8], [4, 7], [3, 4, 4]]\n"
     ]
    }
   ],
   "source": [
    "from typing import List\n",
    "\n",
    "class Solution:\n",
    "    def combinationSum(self, candidates: List[int], target: int) -> List[List[int]]:\n",
    "        def sol(candidates, target, comb, res):\n",
    "            # if 大於TARGET, return \n",
    "            if sum(comb) > target:\n",
    "                return\n",
    "\n",
    "            # if res = target, 需要紀錄不重複的部分\n",
    "            if sum(comb) == target:\n",
    "                # 確保要被加進去的comb是已排序的，這樣可以避免重複\n",
    "                comb_sort = sorted(comb)\n",
    "                if comb_sort not in res:\n",
    "                    res.append(comb_sort)\n",
    "                return\n",
    "            \n",
    "            # for loop for dfs\n",
    "            for elem in candidates:\n",
    "                # 創建一個新的comb列表，以避免修改原來的comb\n",
    "                sol(candidates, target, comb + [elem], res)\n",
    "        \n",
    "        # 在這裡創建res列表\n",
    "        res = []\n",
    "        # 開始遞迴時傳遞創建的res列表\n",
    "        sol(candidates=candidates, target=target, comb=[], res=res)\n",
    "        return res\n",
    "\n",
    "# 測試代碼\n",
    "candidates = [8, 7, 4, 3]\n",
    "target = 11\n",
    "\n",
    "solution = Solution()\n",
    "print(solution.combinationSum(candidates, target))\n"
   ]
  },
  {
   "cell_type": "markdown",
   "metadata": {},
   "source": [
    "#### LeetCode Best Solution\n",
    "```\n",
    "原先代碼會有重複的組合，原因在於幾個方面：\n",
    "1. 排序和重複檢查：在代碼中，每次當找到一個合法的組合（即組合中數字的和等於目標數字target）時，會將組合排序後檢查是否已存在於結果列表res中。這個檢查是在每次找到一個可能的組合後才進行的，而不是在添加新元素到組合comb之前進行。這會導致在遞歸過程中，即使組合已經存在於res中，仍然會進行後續的搜索。\n",
    "2. 沒有剪枝：在遞歸函數sol中，每次都是遍歷完整的candidates列表來添加新元素到組合comb中。這意味著，對於每一個元素，算法都會考慮所有的candidates，而不管它們是否會導致重複的組合。這種方法沒有考慮到已經選擇的元素，因此會生成重複的組合。\n",
    "\n",
    "3. 未記錄選擇的索引或路徑：一種常見的避免重複組合的方法是記錄每次遞歸時所選擇的元素索引，並只從當前索引或之後的元素中選擇新元素。但在這段代碼中，每次遞歸都可能選擇相同的元素，因此可能會生成重複的組合。\n",
    "\n",
    "為了解決這些問題，可以進行以下修改：\n",
    "1. 在遞歸函數sol中添加一個新的參數來記錄當前選擇的元素索引。\n",
    "2. 從當前索引開始遍歷candidates，這樣就不會重新考慮之前已經選擇的元素。\n",
    "3. 確保當一個組合被添加到結果列表res中後，在之後的搜索中不再考慮這個組合。\n",
    "```"
   ]
  },
  {
   "cell_type": "code",
   "execution_count": null,
   "metadata": {},
   "outputs": [],
   "source": [
    "from typing import List\n",
    "\n",
    "class Solution:\n",
    "    def combinationSum(self, candidates: List[int], target: int) -> List[List[int]]:\n",
    "        def sol(start, candidates, target, comb, res):\n",
    "            if target == 0:\n",
    "                res.append(list(comb))\n",
    "                return\n",
    "            if target < 0:\n",
    "                return\n",
    "\n",
    "            for i in range(start, len(candidates)):\n",
    "                comb.append(candidates[i])\n",
    "                sol(i, candidates, target - candidates[i], comb, res)\n",
    "                comb.pop()  # backtracking\n",
    "\n",
    "        res = []\n",
    "        sol(0, candidates, target, [], res)\n",
    "        return res\n"
   ]
  }
 ],
 "metadata": {
  "kernelspec": {
   "display_name": "base",
   "language": "python",
   "name": "python3"
  },
  "language_info": {
   "codemirror_mode": {
    "name": "ipython",
    "version": 3
   },
   "file_extension": ".py",
   "mimetype": "text/x-python",
   "name": "python",
   "nbconvert_exporter": "python",
   "pygments_lexer": "ipython3",
   "version": "3.9.10"
  }
 },
 "nbformat": 4,
 "nbformat_minor": 2
}
