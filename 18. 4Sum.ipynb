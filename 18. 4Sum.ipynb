{
 "cells": [
  {
   "cell_type": "markdown",
   "metadata": {},
   "source": [
    "Given an array nums of n integers, return an array of all the unique quadruplets [nums[a], nums[b], nums[c], nums[d]] such that:\n",
    "\n",
    "* 0 <= a, b, c, d < n\n",
    " * a, b, c, and d are distinct.\n",
    " * nums[a] + nums[b] + nums[c] + nums[d] == target\n",
    " * You may return the answer in any order.\n",
    " \n",
    "https://leetcode.com/problems/4sum/\n",
    "* Runtime: 1152 ms, faster than 27.67% of Python3 online submissions for 4Sum.\n",
    "* Memory Usage: 14 MB, less than 98.58% of Python3 online submissions for 4Sum."
   ]
  },
  {
   "cell_type": "markdown",
   "metadata": {},
   "source": [
    "```\n",
    "class Solution:\n",
    "    def fourSum(self, nums: List[int], target: int) -> List[List[int]]:\n",
    "        nums.sort()\n",
    "        res = set()\n",
    "\n",
    "        for i in range(len(nums)):\n",
    "            r = len(nums)-1\n",
    "            while i<r:  \n",
    "                t_left = i+1\n",
    "                t_right = r-1\n",
    "\n",
    "                t_tar = target-nums[i]-nums[r] #需要兩個數字加起來\n",
    "                while t_left < t_right:\n",
    "                    if nums[t_left]+nums[t_right]==t_tar:\n",
    "                        res.add((nums[i], nums[t_left], nums[t_right],nums[r]))\n",
    "                        t_left+=1\n",
    "                        t_right-=1\n",
    "                    elif nums[t_left]+nums[t_right]>t_tar:\n",
    "                        t_right-=1\n",
    "                    else :\n",
    "                        t_left+=1\n",
    "                r-=1\n",
    "        return list(res)\n",
    "```"
   ]
  }
 ],
 "metadata": {
  "kernelspec": {
   "display_name": "Python 3",
   "language": "python",
   "name": "python3"
  },
  "language_info": {
   "codemirror_mode": {
    "name": "ipython",
    "version": 3
   },
   "file_extension": ".py",
   "mimetype": "text/x-python",
   "name": "python",
   "nbconvert_exporter": "python",
   "pygments_lexer": "ipython3",
   "version": "3.7.4"
  }
 },
 "nbformat": 4,
 "nbformat_minor": 2
}
