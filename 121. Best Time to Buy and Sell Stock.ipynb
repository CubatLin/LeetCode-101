{
 "cells": [
  {
   "cell_type": "markdown",
   "metadata": {},
   "source": [
    "You are given an array prices where prices[i] is the price of a given stock on the ith day.\n",
    "\n",
    "You want to maximize your profit by choosing a single day to buy one stock and choosing a different day in the future to sell that stock.\n",
    "\n",
    "Return the maximum profit you can achieve from this transaction. If you cannot achieve any profit, return 0."
   ]
  },
  {
   "cell_type": "code",
   "execution_count": 1,
   "metadata": {},
   "outputs": [
    {
     "name": "stdout",
     "output_type": "stream",
     "text": [
      "buy price:  7\n",
      "rev_tmp:  0\n",
      "buy price:  1\n",
      "rev_tmp:  0\n",
      "rev_tmp:  4\n",
      "rev_tmp:  2\n",
      "rev_tmp:  5\n",
      "rev_tmp:  3\n"
     ]
    },
    {
     "data": {
      "text/plain": [
       "5"
      ]
     },
     "execution_count": 1,
     "metadata": {},
     "output_type": "execute_result"
    }
   ],
   "source": [
    "def maxProfit(prices):\n",
    "    buy = prices[0];rev = 0\n",
    "    prepare_sell = False\n",
    "    for i in range(len(prices)):\n",
    "        if prices[i]<=buy:\n",
    "            buy=prices[i]\n",
    "            prepare_sell=True\n",
    "            print('buy price: ',buy)\n",
    "        if prepare_sell==True:\n",
    "            rev_tmp = max(0,prices[i]-buy)\n",
    "            print('rev_tmp: ',rev_tmp)\n",
    "            rev = max(rev,rev_tmp)\n",
    "    return rev\n",
    "\n",
    "maxProfit([7,1,5,3,6,4])"
   ]
  },
  {
   "cell_type": "markdown",
   "metadata": {},
   "source": [
    "#### LeetCode Solution"
   ]
  },
  {
   "cell_type": "markdown",
   "metadata": {},
   "source": [
    "```\n",
    "class Solution:\n",
    "    def maxProfit(self, prices: List[int]) -> int:\n",
    "        buy = prices[0];rev = 0\n",
    "        prepare_sell = False\n",
    "        for i in range(len(prices)):\n",
    "            if prices[i]<=buy:\n",
    "                buy=prices[i]\n",
    "                prepare_sell=True\n",
    "            if prepare_sell==True:\n",
    "                rev_tmp = max(0,prices[i]-buy)\n",
    "                rev = max(rev,rev_tmp)\n",
    "        return rev\n",
    "```            "
   ]
  }
 ],
 "metadata": {
  "kernelspec": {
   "display_name": "Python 3",
   "language": "python",
   "name": "python3"
  },
  "language_info": {
   "codemirror_mode": {
    "name": "ipython",
    "version": 3
   },
   "file_extension": ".py",
   "mimetype": "text/x-python",
   "name": "python",
   "nbconvert_exporter": "python",
   "pygments_lexer": "ipython3",
   "version": "3.7.4"
  }
 },
 "nbformat": 4,
 "nbformat_minor": 2
}
