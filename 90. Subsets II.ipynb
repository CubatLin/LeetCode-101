{
 "cells": [
  {
   "cell_type": "markdown",
   "metadata": {},
   "source": [
    "Given an integer array nums that may contain duplicates, return all possible subsets (the power set).\n",
    "The solution set must not contain duplicate subsets. Return the solution in any order.\n",
    "https://leetcode.com/problems/subsets-ii/\n",
    "\n",
    "* Example 1:\n",
    "* Input: nums = [1,2,2] \n",
    "* Output: [[],[1],[1,2],[1,2,2],[2],[2,2]]"
   ]
  },
  {
   "cell_type": "code",
   "execution_count": 1,
   "metadata": {},
   "outputs": [
    {
     "name": "stdout",
     "output_type": "stream",
     "text": [
      "L1:  []\n",
      "test:  [1]\n",
      "L1:  [1]\n",
      "test:  [1, 2]\n",
      "L1:  [1, 2]\n",
      "test:  [1, 2, 3]\n",
      "idx:  3\n",
      "list_init:  [1, 2, 3]\n",
      "-----\n",
      "L1:  [1]\n",
      "test:  [1, 3]\n",
      "idx:  3\n",
      "list_init:  [1, 3]\n",
      "-----\n",
      "L1:  [1]\n",
      "L1:  [1]\n",
      "L1:  []\n",
      "test:  [2]\n",
      "L1:  [2]\n",
      "test:  [2, 3]\n",
      "idx:  3\n",
      "list_init:  [2, 3]\n",
      "-----\n",
      "L1:  [2]\n",
      "L1:  []\n",
      "test:  [3]\n",
      "idx:  3\n",
      "list_init:  [3]\n",
      "-----\n"
     ]
    }
   ],
   "source": [
    "#寫不好\n",
    "l = [1,2,3]\n",
    "ans=[]\n",
    "\n",
    "def rec_func(list_,idx):\n",
    "    if idx==len(l):\n",
    "        print('idx: ',idx)\n",
    "        idx=i\n",
    "        print('list_init: ',list_)\n",
    "        print('-----')\n",
    "        return \n",
    "    for tmp_idx in range(idx,len(l)):\n",
    "        print('L1: ',list_)\n",
    "        if list_+[l[tmp_idx]] not in ans:\n",
    "            #print(list_)\n",
    "            list_.append(l[tmp_idx])\n",
    "            ans.append(list(list_))\n",
    "            print('test: ',list_)\n",
    "            rec_func(list_,tmp_idx+1)\n",
    "            list_ = [l[i]]\n",
    "\n",
    "for i in range(len(l)):\n",
    "    tmp=[]\n",
    "    rec_func(tmp,i)"
   ]
  },
  {
   "cell_type": "code",
   "execution_count": 3,
   "metadata": {},
   "outputs": [
    {
     "data": {
      "text/plain": [
       "[[1], [1, 2], [1, 2, 3], [1, 3], [2], [2, 3], [3]]"
      ]
     },
     "execution_count": 3,
     "metadata": {},
     "output_type": "execute_result"
    }
   ],
   "source": [
    "ans"
   ]
  },
  {
   "cell_type": "markdown",
   "metadata": {},
   "source": [
    "### 未優化的DFS res要unique才會是答案"
   ]
  },
  {
   "cell_type": "code",
   "execution_count": 4,
   "metadata": {},
   "outputs": [
    {
     "name": "stdout",
     "output_type": "stream",
     "text": [
      "----------------\n",
      "path:  []\n",
      "idx:  0\n",
      "i in for:  0\n",
      "idx in for:  0\n",
      "----------------\n",
      "path:  [1]\n",
      "idx:  1\n",
      "i in for:  1\n",
      "idx in for:  1\n",
      "----------------\n",
      "path:  [1, 1]\n",
      "idx:  2\n",
      "i in for:  2\n",
      "idx in for:  2\n",
      "----------------\n",
      "path:  [1, 1, 1]\n",
      "idx:  3\n",
      "i in for:  3\n",
      "idx in for:  3\n",
      "----------------\n",
      "path:  [1, 1, 1, 2]\n",
      "idx:  4\n",
      "i in for:  3\n",
      "idx in for:  2\n",
      "----------------\n",
      "path:  [1, 1, 2]\n",
      "idx:  4\n",
      "i in for:  2\n",
      "idx in for:  1\n",
      "----------------\n",
      "path:  [1, 1]\n",
      "idx:  3\n",
      "i in for:  3\n",
      "idx in for:  3\n",
      "----------------\n",
      "path:  [1, 1, 2]\n",
      "idx:  4\n",
      "i in for:  3\n",
      "idx in for:  1\n",
      "----------------\n",
      "path:  [1, 2]\n",
      "idx:  4\n",
      "i in for:  1\n",
      "idx in for:  0\n",
      "----------------\n",
      "path:  [1]\n",
      "idx:  2\n",
      "i in for:  2\n",
      "idx in for:  2\n",
      "----------------\n",
      "path:  [1, 1]\n",
      "idx:  3\n",
      "i in for:  3\n",
      "idx in for:  3\n",
      "----------------\n",
      "path:  [1, 1, 2]\n",
      "idx:  4\n",
      "i in for:  3\n",
      "idx in for:  2\n",
      "----------------\n",
      "path:  [1, 2]\n",
      "idx:  4\n",
      "i in for:  2\n",
      "idx in for:  0\n",
      "----------------\n",
      "path:  [1]\n",
      "idx:  3\n",
      "i in for:  3\n",
      "idx in for:  3\n",
      "----------------\n",
      "path:  [1, 2]\n",
      "idx:  4\n",
      "i in for:  3\n",
      "idx in for:  0\n",
      "----------------\n",
      "path:  [2]\n",
      "idx:  4\n"
     ]
    }
   ],
   "source": [
    "res = []\n",
    "nums = [1,1,1,2]\n",
    "nums.sort()\n",
    "def dfs(idx, path):\n",
    "    print('----------------')\n",
    "    res.append(path)\n",
    "    print('path: ',path)\n",
    "    print('idx: ',idx)\n",
    "    for i in range(idx, len(nums)): #range(4,4)\n",
    "        print('i in for: ',i)\n",
    "        print('idx in for: ',idx)\n",
    "        dfs(i+1, path+[nums[i]])\n",
    "dfs(0, [])"
   ]
  },
  {
   "cell_type": "markdown",
   "metadata": {},
   "source": [
    "### 漂亮的DFS"
   ]
  },
  {
   "cell_type": "code",
   "execution_count": 8,
   "metadata": {},
   "outputs": [
    {
     "name": "stdout",
     "output_type": "stream",
     "text": [
      "----------------\n",
      "path:  []\n",
      "idx:  0\n",
      "i in for:  0\n",
      "idx in for:  0\n",
      "----------------\n",
      "path:  [1]\n",
      "idx:  1\n",
      "i in for:  1\n",
      "idx in for:  1\n",
      "----------------\n",
      "path:  [1, 1]\n",
      "idx:  2\n",
      "i in for:  2\n",
      "idx in for:  2\n",
      "----------------\n",
      "path:  [1, 1, 1]\n",
      "idx:  3\n",
      "i in for:  3\n",
      "idx in for:  3\n",
      "----------------\n",
      "path:  [1, 1, 1, 2]\n",
      "idx:  4\n",
      "i in for:  3\n",
      "idx in for:  2\n",
      "----------------\n",
      "path:  [1, 1, 2]\n",
      "idx:  4\n",
      "i in for:  2\n",
      "idx in for:  1\n",
      "i:  2 idx:  1\n",
      "nums[i]:  1 / nums[i-1]:  1\n",
      "---continue---\n",
      "i in for:  3\n",
      "idx in for:  1\n",
      "----------------\n",
      "path:  [1, 2]\n",
      "idx:  4\n",
      "i in for:  1\n",
      "idx in for:  0\n",
      "i:  1 idx:  0\n",
      "nums[i]:  1 / nums[i-1]:  1\n",
      "---continue---\n",
      "i in for:  2\n",
      "idx in for:  0\n",
      "i:  2 idx:  0\n",
      "nums[i]:  1 / nums[i-1]:  1\n",
      "---continue---\n",
      "i in for:  3\n",
      "idx in for:  0\n",
      "----------------\n",
      "path:  [2]\n",
      "idx:  4\n"
     ]
    }
   ],
   "source": [
    "#漂亮的DFS\n",
    "res = []\n",
    "nums = [1,1,1,2]\n",
    "nums.sort()\n",
    "def dfs(idx, path):\n",
    "    print('----------------')\n",
    "    res.append(path)\n",
    "    print('path: ',path)\n",
    "    print('idx: ',idx)\n",
    "    for i in range(idx, len(nums)): #range(4,4)\n",
    "        print('i in for: ',i)\n",
    "        print('idx in for: ',idx)\n",
    "        # 因為數列有SORT完,所以這個if有點像在找unique value當開頭\n",
    "        #如果這一位i 比idx還後面,且兩個數字相同;用continue\n",
    "        if i > idx and nums[i] == nums[i-1]:\n",
    "            print('i: ',i,'idx: ',idx)\n",
    "            print('nums[i]: ',nums[i],'/ nums[i-1]: ',nums[i-1])\n",
    "\n",
    "            print('---continue---')\n",
    "            continue\n",
    "        dfs(i+1, path+[nums[i]])\n",
    "dfs(0, [])"
   ]
  },
  {
   "cell_type": "markdown",
   "metadata": {},
   "source": [
    "```\n",
    "class Solution:\n",
    "    def subsetsWithDup(self, nums: List[int]) -> List[List[int]]:\n",
    "        res = []\n",
    "        nums.sort()\n",
    "        def dfs(idx, path):\n",
    "            res.append(path)\n",
    "            for i in range(idx, len(nums)):\n",
    "                if i > idx and nums[i] == nums[i-1]:\n",
    "                    continue\n",
    "                dfs(i+1, path+[nums[i]])\n",
    "        dfs(0, [])\n",
    "        return res\n",
    "```"
   ]
  },
  {
   "cell_type": "markdown",
   "metadata": {},
   "source": [
    "### 0324 DFS Super Easy Thought\n",
    "1. 先對整個array排序\n",
    "2. 對整個array的元素遍歷一次, 在dfs每一步按照元素順序依次append\n",
    "3. 因為有重複的element, 所以在最外層增加一個'當前tmp_list有沒有在res裡' 如果沒有才要做append & DFS"
   ]
  },
  {
   "cell_type": "markdown",
   "metadata": {},
   "source": [
    "```\n",
    "class Solution:\n",
    "    def subsetsWithDup(self, nums: List[int]) -> List[List[int]]:\n",
    "        nums.sort()\n",
    "        res = []\n",
    "        def dfs(idx,tmp_list):\n",
    "            if tmp_list not in res:\n",
    "                res.append(tmp_list)\n",
    "                for i in range(idx,len(nums)):\n",
    "                    dfs(i+1,tmp_list+[nums[i]])\n",
    "        dfs(0,[])\n",
    "        return (res)\n",
    "```"
   ]
  }
 ],
 "metadata": {
  "kernelspec": {
   "display_name": "Python 3",
   "language": "python",
   "name": "python3"
  },
  "language_info": {
   "codemirror_mode": {
    "name": "ipython",
    "version": 3
   },
   "file_extension": ".py",
   "mimetype": "text/x-python",
   "name": "python",
   "nbconvert_exporter": "python",
   "pygments_lexer": "ipython3",
   "version": "3.7.4"
  }
 },
 "nbformat": 4,
 "nbformat_minor": 2
}
