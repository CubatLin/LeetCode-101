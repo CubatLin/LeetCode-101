{
 "cells": [
  {
   "cell_type": "markdown",
   "metadata": {},
   "source": [
    "## 二叉樹特性:\n",
    "* 子節點數只有0, 1, 2三種\n",
    "* 子節點一個必大於父節點、另一個小於父節點"
   ]
  },
  {
   "cell_type": "code",
   "execution_count": 33,
   "metadata": {},
   "outputs": [],
   "source": [
    "class BinaryTree:\n",
    "    def __init__(self, val, leftChild = None, rightChild = None):\n",
    "        '''\n",
    "        val(int): 節點值\n",
    "        leftChild(BinaryTree): 左節點\n",
    "        rightChild(BinaryTree): 右節點\n",
    "        '''\n",
    "        self.val = val\n",
    "        self.leftChild = leftChild\n",
    "        self.rightChild = rightChild"
   ]
  },
  {
   "cell_type": "code",
   "execution_count": 34,
   "metadata": {},
   "outputs": [],
   "source": [
    "# 小的放左邊, 大的放右邊\n",
    "node_1 = BinaryTree(1)\n",
    "node_2 = BinaryTree(10)\n",
    "tree = BinaryTree(5, node_1, node_2)"
   ]
  },
  {
   "cell_type": "code",
   "execution_count": 35,
   "metadata": {},
   "outputs": [
    {
     "data": {
      "text/plain": [
       "5"
      ]
     },
     "execution_count": 35,
     "metadata": {},
     "output_type": "execute_result"
    }
   ],
   "source": [
    "tree.val"
   ]
  },
  {
   "cell_type": "code",
   "execution_count": 36,
   "metadata": {},
   "outputs": [
    {
     "data": {
      "text/plain": [
       "1"
      ]
     },
     "execution_count": 36,
     "metadata": {},
     "output_type": "execute_result"
    }
   ],
   "source": [
    "tree.leftChild.val"
   ]
  },
  {
   "cell_type": "markdown",
   "metadata": {},
   "source": [
    "#### Search"
   ]
  },
  {
   "cell_type": "code",
   "execution_count": 66,
   "metadata": {},
   "outputs": [],
   "source": [
    "def search_val_in_btree(target, node):\n",
    "    # base case\n",
    "    # node is None條件要放前面, 因為有可能btree沒這個target,Non要直接回傳\n",
    "    if node is None or node.val == target:\n",
    "        return node\n",
    "    # 如果target小於node值, 往左邊找\n",
    "    elif target < node.val: \n",
    "        return search_val_in_btree(target, node.leftChild)\n",
    "    else: \n",
    "        return search_val_in_btree(target, node.rightChild)\n",
    "\n",
    "search_val_in_btree(3, tree)"
   ]
  },
  {
   "cell_type": "code",
   "execution_count": 67,
   "metadata": {},
   "outputs": [
    {
     "ename": "AttributeError",
     "evalue": "'NoneType' object has no attribute 'val'",
     "output_type": "error",
     "traceback": [
      "\u001b[0;31m---------------------------------------------------------------------------\u001b[0m",
      "\u001b[0;31mAttributeError\u001b[0m                            Traceback (most recent call last)",
      "\u001b[1;32m/Users/ethanwu/Documents/GitHub/LeetCode-101/Binary Tree/Binary_Tree_Search.ipynb Cell 8\u001b[0m in \u001b[0;36m<cell line: 14>\u001b[0;34m()\u001b[0m\n\u001b[1;32m     <a href='vscode-notebook-cell:/Users/ethanwu/Documents/GitHub/LeetCode-101/Binary%20Tree/Binary_Tree_Search.ipynb#W3sZmlsZQ%3D%3D?line=10'>11</a>\u001b[0m     \u001b[39melse\u001b[39;00m: \n\u001b[1;32m     <a href='vscode-notebook-cell:/Users/ethanwu/Documents/GitHub/LeetCode-101/Binary%20Tree/Binary_Tree_Search.ipynb#W3sZmlsZQ%3D%3D?line=11'>12</a>\u001b[0m         \u001b[39mreturn\u001b[39;00m search_val_in_btree(target, node\u001b[39m.\u001b[39mrightChild)\n\u001b[0;32m---> <a href='vscode-notebook-cell:/Users/ethanwu/Documents/GitHub/LeetCode-101/Binary%20Tree/Binary_Tree_Search.ipynb#W3sZmlsZQ%3D%3D?line=13'>14</a>\u001b[0m search_val_in_btree(\u001b[39m3\u001b[39;49m, tree)\n",
      "\u001b[1;32m/Users/ethanwu/Documents/GitHub/LeetCode-101/Binary Tree/Binary_Tree_Search.ipynb Cell 8\u001b[0m in \u001b[0;36msearch_val_in_btree\u001b[0;34m(target, node)\u001b[0m\n\u001b[1;32m      <a href='vscode-notebook-cell:/Users/ethanwu/Documents/GitHub/LeetCode-101/Binary%20Tree/Binary_Tree_Search.ipynb#W3sZmlsZQ%3D%3D?line=7'>8</a>\u001b[0m \u001b[39m# 如果target小於node值, 往左邊找\u001b[39;00m\n\u001b[1;32m      <a href='vscode-notebook-cell:/Users/ethanwu/Documents/GitHub/LeetCode-101/Binary%20Tree/Binary_Tree_Search.ipynb#W3sZmlsZQ%3D%3D?line=8'>9</a>\u001b[0m \u001b[39melif\u001b[39;00m target \u001b[39m<\u001b[39m node\u001b[39m.\u001b[39mval: \n\u001b[0;32m---> <a href='vscode-notebook-cell:/Users/ethanwu/Documents/GitHub/LeetCode-101/Binary%20Tree/Binary_Tree_Search.ipynb#W3sZmlsZQ%3D%3D?line=9'>10</a>\u001b[0m     \u001b[39mreturn\u001b[39;00m search_val_in_btree(target, node\u001b[39m.\u001b[39;49mleftChild)\n\u001b[1;32m     <a href='vscode-notebook-cell:/Users/ethanwu/Documents/GitHub/LeetCode-101/Binary%20Tree/Binary_Tree_Search.ipynb#W3sZmlsZQ%3D%3D?line=10'>11</a>\u001b[0m \u001b[39melse\u001b[39;00m: \n\u001b[1;32m     <a href='vscode-notebook-cell:/Users/ethanwu/Documents/GitHub/LeetCode-101/Binary%20Tree/Binary_Tree_Search.ipynb#W3sZmlsZQ%3D%3D?line=11'>12</a>\u001b[0m     \u001b[39mreturn\u001b[39;00m search_val_in_btree(target, node\u001b[39m.\u001b[39mrightChild)\n",
      "\u001b[1;32m/Users/ethanwu/Documents/GitHub/LeetCode-101/Binary Tree/Binary_Tree_Search.ipynb Cell 8\u001b[0m in \u001b[0;36msearch_val_in_btree\u001b[0;34m(target, node)\u001b[0m\n\u001b[1;32m     <a href='vscode-notebook-cell:/Users/ethanwu/Documents/GitHub/LeetCode-101/Binary%20Tree/Binary_Tree_Search.ipynb#W3sZmlsZQ%3D%3D?line=9'>10</a>\u001b[0m     \u001b[39mreturn\u001b[39;00m search_val_in_btree(target, node\u001b[39m.\u001b[39mleftChild)\n\u001b[1;32m     <a href='vscode-notebook-cell:/Users/ethanwu/Documents/GitHub/LeetCode-101/Binary%20Tree/Binary_Tree_Search.ipynb#W3sZmlsZQ%3D%3D?line=10'>11</a>\u001b[0m \u001b[39melse\u001b[39;00m: \n\u001b[0;32m---> <a href='vscode-notebook-cell:/Users/ethanwu/Documents/GitHub/LeetCode-101/Binary%20Tree/Binary_Tree_Search.ipynb#W3sZmlsZQ%3D%3D?line=11'>12</a>\u001b[0m     \u001b[39mreturn\u001b[39;00m search_val_in_btree(target, node\u001b[39m.\u001b[39;49mrightChild)\n",
      "\u001b[1;32m/Users/ethanwu/Documents/GitHub/LeetCode-101/Binary Tree/Binary_Tree_Search.ipynb Cell 8\u001b[0m in \u001b[0;36msearch_val_in_btree\u001b[0;34m(target, node)\u001b[0m\n\u001b[1;32m      <a href='vscode-notebook-cell:/Users/ethanwu/Documents/GitHub/LeetCode-101/Binary%20Tree/Binary_Tree_Search.ipynb#W3sZmlsZQ%3D%3D?line=2'>3</a>\u001b[0m \u001b[39mdef\u001b[39;00m \u001b[39msearch_val_in_btree\u001b[39m(target, node):\n\u001b[1;32m      <a href='vscode-notebook-cell:/Users/ethanwu/Documents/GitHub/LeetCode-101/Binary%20Tree/Binary_Tree_Search.ipynb#W3sZmlsZQ%3D%3D?line=3'>4</a>\u001b[0m     \u001b[39m# base case\u001b[39;00m\n\u001b[1;32m      <a href='vscode-notebook-cell:/Users/ethanwu/Documents/GitHub/LeetCode-101/Binary%20Tree/Binary_Tree_Search.ipynb#W3sZmlsZQ%3D%3D?line=4'>5</a>\u001b[0m     \u001b[39m# node is None條件要放前面, 因為有可能btree沒這個target,Non要直接回傳\u001b[39;00m\n\u001b[0;32m----> <a href='vscode-notebook-cell:/Users/ethanwu/Documents/GitHub/LeetCode-101/Binary%20Tree/Binary_Tree_Search.ipynb#W3sZmlsZQ%3D%3D?line=5'>6</a>\u001b[0m     \u001b[39mif\u001b[39;00m node\u001b[39m.\u001b[39;49mval \u001b[39m==\u001b[39m target \u001b[39mor\u001b[39;00m node \u001b[39mis\u001b[39;00m \u001b[39mNone\u001b[39;00m:\n\u001b[1;32m      <a href='vscode-notebook-cell:/Users/ethanwu/Documents/GitHub/LeetCode-101/Binary%20Tree/Binary_Tree_Search.ipynb#W3sZmlsZQ%3D%3D?line=6'>7</a>\u001b[0m         \u001b[39mreturn\u001b[39;00m node\n\u001b[1;32m      <a href='vscode-notebook-cell:/Users/ethanwu/Documents/GitHub/LeetCode-101/Binary%20Tree/Binary_Tree_Search.ipynb#W3sZmlsZQ%3D%3D?line=7'>8</a>\u001b[0m     \u001b[39m# 如果target小於node值, 往左邊找\u001b[39;00m\n",
      "\u001b[0;31mAttributeError\u001b[0m: 'NoneType' object has no attribute 'val'"
     ]
    }
   ],
   "source": [
    "# None放後面會報錯\n",
    "\n",
    "def search_val_in_btree(target, node):\n",
    "    # base case\n",
    "    # node is None條件要放前面, 因為有可能btree沒這個target,Non要直接回傳\n",
    "    if node.val == target or node is None:\n",
    "        return node\n",
    "    # 如果target小於node值, 往左邊找\n",
    "    elif target < node.val: \n",
    "        return search_val_in_btree(target, node.leftChild)\n",
    "    else: \n",
    "        return search_val_in_btree(target, node.rightChild)\n",
    "\n",
    "search_val_in_btree(3, tree)"
   ]
  }
 ],
 "metadata": {
  "kernelspec": {
   "display_name": "Python 3.8.13 ('ckip_env')",
   "language": "python",
   "name": "python3"
  },
  "language_info": {
   "codemirror_mode": {
    "name": "ipython",
    "version": 3
   },
   "file_extension": ".py",
   "mimetype": "text/x-python",
   "name": "python",
   "nbconvert_exporter": "python",
   "pygments_lexer": "ipython3",
   "version": "3.8.13"
  },
  "orig_nbformat": 4,
  "vscode": {
   "interpreter": {
    "hash": "06187b0398c5865e4abb9cf35dd0ffb3c218374262a94c60bb1ffc807459510b"
   }
  }
 },
 "nbformat": 4,
 "nbformat_minor": 2
}
