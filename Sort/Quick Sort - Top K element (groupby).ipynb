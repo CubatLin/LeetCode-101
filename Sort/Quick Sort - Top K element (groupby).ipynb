{
 "cells": [
  {
   "cell_type": "markdown",
   "id": "635be675",
   "metadata": {},
   "source": [
    "**Source:** \n",
    "https://ithelp.ithome.com.tw/m/articles/10202330?fbclid=IwAR3EiXfBcpz0IgDTzD5YTGS_dUBpmGA57of7iU9-tl27vlPPKi565hccNQ0"
   ]
  },
  {
   "cell_type": "code",
   "execution_count": 3,
   "id": "35f5483a",
   "metadata": {},
   "outputs": [],
   "source": [
    "name_list = ['A','A','B','A','A','A','B']\n",
    "value_list = [0.5,0.8,0.7,0.68,0.7,0.75,0.3] "
   ]
  },
  {
   "cell_type": "code",
   "execution_count": 4,
   "id": "f0db5dd7",
   "metadata": {},
   "outputs": [],
   "source": [
    "#升冪\n",
    "def quicksort_asec(data, left, right): # 輸入資料，和從兩邊開始的位置\n",
    "    if left >= right :            # 如果左邊大於右邊，就跳出function\n",
    "        return\n",
    "\n",
    "    i = left                      # 左邊的代理人\n",
    "    j = right                     # 右邊的代理人\n",
    "    key = data[left]                 # 基準點\n",
    "    print(f\"Init->i:{i};j:{j}\")\n",
    "\n",
    "    while i != j:                  \n",
    "        while data[j] > key and i < j:   # 從右邊開始找，找比基準點小的值\n",
    "            j -= 1\n",
    "            print(f\"j:{j}\")\n",
    "        while data[i] <= key and i < j:  # 從左邊開始找，找比基準點大的值\n",
    "            i += 1\n",
    "            print(f\"i:{i}\")\n",
    "        if i < j:                        # 當左右代理人沒有相遇時，互換值\n",
    "            data[i], data[j] = data[j], data[i] \n",
    "            print(f\"change:i:{i};j:{j}\")\n",
    "            print(data)\n",
    "\n",
    "    # 將基準點歸換至代理人相遇點\n",
    "    print('Before:',data)\n",
    "    data[left] = data[i] \n",
    "    data[i] = key\n",
    "    print('After:',data)\n",
    "    \n",
    "    #二分遞迴\n",
    "    quicksort_asec(data, left, i-1)   # 繼續處理較小部分的子循環\n",
    "    quicksort_asec(data, i+1, right)  # 繼續處理較大部分的子循環"
   ]
  },
  {
   "cell_type": "code",
   "execution_count": 8,
   "id": "f00167e7",
   "metadata": {},
   "outputs": [
    {
     "name": "stdout",
     "output_type": "stream",
     "text": [
      "Init->i:0;j:4\n",
      "j:3\n",
      "j:2\n",
      "j:1\n",
      "j:0\n",
      "Before: [0.5, 0.8, 0.68, 0.7, 0.75]\n",
      "After: [0.5, 0.8, 0.68, 0.7, 0.75]\n",
      "Init->i:1;j:4\n",
      "i:2\n",
      "i:3\n",
      "i:4\n",
      "Before: [0.5, 0.8, 0.68, 0.7, 0.75]\n",
      "After: [0.5, 0.75, 0.68, 0.7, 0.8]\n",
      "Init->i:1;j:3\n",
      "i:2\n",
      "i:3\n",
      "Before: [0.5, 0.75, 0.68, 0.7, 0.8]\n",
      "After: [0.5, 0.7, 0.68, 0.75, 0.8]\n",
      "Init->i:1;j:2\n",
      "i:2\n",
      "Before: [0.5, 0.7, 0.68, 0.75, 0.8]\n",
      "After: [0.5, 0.68, 0.7, 0.75, 0.8]\n",
      "Init->i:0;j:1\n",
      "i:1\n",
      "Before: [0.7, 0.3]\n",
      "After: [0.3, 0.7]\n"
     ]
    }
   ],
   "source": [
    "res_d = dict()\n",
    "\n",
    "#先groupby到dict\n",
    "for i in range(len(name_list)):\n",
    "    if name_list[i] not in res_d:\n",
    "        res_d[name_list[i]] = [value_list[i]]\n",
    "    else:\n",
    "        res_d[name_list[i]].append(value_list[i])\n",
    "\n",
    "#對每個key做排序\n",
    "for key, value in res_d.items():\n",
    "    tmp = value\n",
    "    quicksort_asec(tmp,0,len(tmp)-1)\n",
    "    res_d[key]=tmp        "
   ]
  },
  {
   "cell_type": "code",
   "execution_count": 9,
   "id": "e8d0ff8f",
   "metadata": {},
   "outputs": [
    {
     "data": {
      "text/plain": [
       "{'A': [0.5, 0.68, 0.7, 0.75, 0.8], 'B': [0.3, 0.7]}"
      ]
     },
     "execution_count": 9,
     "metadata": {},
     "output_type": "execute_result"
    }
   ],
   "source": [
    "res_d"
   ]
  },
  {
   "cell_type": "code",
   "execution_count": 10,
   "id": "7c4713cd",
   "metadata": {},
   "outputs": [],
   "source": [
    "#降冪\n",
    "def quicksort_desc(data, left, right): # 輸入資料，和從兩邊開始的位置\n",
    "    if left >= right :            # 如果左邊大於右邊，就跳出function\n",
    "        return\n",
    "\n",
    "    i = left                      # 左邊的代理人\n",
    "    j = right                     # 右邊的代理人\n",
    "    key = data[left]                 # 基準點\n",
    "\n",
    "    while i != j:                  \n",
    "        while data[j] < key and i < j:   # 從右邊開始找，找比基準點大的值\n",
    "            j -= 1\n",
    "        while data[i] >= key and i < j:  # 從左邊開始找，找比基準點小的值\n",
    "            i += 1\n",
    "        if i < j:                        # 當左右代理人沒有相遇時，互換值\n",
    "            data[i], data[j] = data[j], data[i] \n",
    "\n",
    "    # 將基準點歸換至代理人相遇點\n",
    "    data[left] = data[i] \n",
    "    data[i] = key\n",
    "\n",
    "    quicksort_desc(data, left, i-1)   # 繼續處理較小部分的子循環\n",
    "    quicksort_desc(data, i+1, right)  # 繼續處理較大部分的子循環"
   ]
  },
  {
   "cell_type": "code",
   "execution_count": 11,
   "id": "4b6883fc",
   "metadata": {},
   "outputs": [],
   "source": [
    "res_d = dict()\n",
    "\n",
    "#先groupby到dict\n",
    "for i in range(len(name_list)):\n",
    "    if name_list[i] not in res_d:\n",
    "        res_d[name_list[i]] = [value_list[i]]\n",
    "    else:\n",
    "        res_d[name_list[i]].append(value_list[i])\n",
    "\n",
    "#對每個key做排序\n",
    "for key, value in res_d.items():\n",
    "    tmp = value\n",
    "    quicksort_desc(tmp,0,len(tmp)-1)\n",
    "    res_d[key]=tmp        "
   ]
  },
  {
   "cell_type": "code",
   "execution_count": 12,
   "id": "7ac78a06",
   "metadata": {},
   "outputs": [
    {
     "data": {
      "text/plain": [
       "{'A': [0.8, 0.75, 0.7, 0.68, 0.5], 'B': [0.7, 0.3]}"
      ]
     },
     "execution_count": 12,
     "metadata": {},
     "output_type": "execute_result"
    }
   ],
   "source": [
    "res_d"
   ]
  }
 ],
 "metadata": {
  "kernelspec": {
   "display_name": "Python 3 (ipykernel)",
   "language": "python",
   "name": "python3"
  },
  "language_info": {
   "codemirror_mode": {
    "name": "ipython",
    "version": 3
   },
   "file_extension": ".py",
   "mimetype": "text/x-python",
   "name": "python",
   "nbconvert_exporter": "python",
   "pygments_lexer": "ipython3",
   "version": "3.8.12"
  }
 },
 "nbformat": 4,
 "nbformat_minor": 5
}
