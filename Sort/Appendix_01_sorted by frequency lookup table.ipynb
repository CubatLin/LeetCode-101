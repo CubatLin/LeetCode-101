{
 "cells": [
  {
   "cell_type": "code",
   "execution_count": 4,
   "metadata": {},
   "outputs": [],
   "source": [
    "%reset -f\n",
    "import pandas as pd\n",
    "import collections\n",
    "import numpy as np\n",
    "\n",
    "num_array = [7,7,7,3,3,8,2,6,6,4,4,1,1]"
   ]
  },
  {
   "cell_type": "code",
   "execution_count": 5,
   "metadata": {},
   "outputs": [],
   "source": [
    "def sort_by_freq(data):\n",
    "    #Initial\n",
    "    freq_dic = collections.defaultdict(int) #must use\n",
    "    for i in data:\n",
    "        freq_dic[i]+=1\n",
    "    #sort\n",
    "    sorted_array = []\n",
    "    for key, key_freq in sorted(freq_dic.items(), key=lambda item: item[0]):\n",
    "        sorted_array.extend([key] * key_freq)\n",
    "    \n",
    "    return sorted_array "
   ]
  },
  {
   "cell_type": "code",
   "execution_count": 6,
   "metadata": {},
   "outputs": [
    {
     "data": {
      "text/plain": [
       "[1, 1, 2, 3, 3, 4, 4, 6, 6, 7, 7, 7, 8]"
      ]
     },
     "execution_count": 6,
     "metadata": {},
     "output_type": "execute_result"
    }
   ],
   "source": [
    "sort_by_freq(num_array)"
   ]
  },
  {
   "cell_type": "markdown",
   "metadata": {},
   "source": [
    "#### Appendix:\n",
    "* https://www.saltycrane.com/blog/2007/09/how-to-sort-python-dictionary-by-keys/"
   ]
  }
 ],
 "metadata": {
  "kernelspec": {
   "display_name": "Python 3",
   "language": "python",
   "name": "python3"
  },
  "language_info": {
   "codemirror_mode": {
    "name": "ipython",
    "version": 3
   },
   "file_extension": ".py",
   "mimetype": "text/x-python",
   "name": "python",
   "nbconvert_exporter": "python",
   "pygments_lexer": "ipython3",
   "version": "3.7.4"
  }
 },
 "nbformat": 4,
 "nbformat_minor": 2
}
