{
 "cells": [
  {
   "cell_type": "markdown",
   "id": "635be675",
   "metadata": {},
   "source": [
    "**Source:** \n",
    "https://ithelp.ithome.com.tw/m/articles/10202330?fbclid=IwAR3EiXfBcpz0IgDTzD5YTGS_dUBpmGA57of7iU9-tl27vlPPKi565hccNQ0"
   ]
  },
  {
   "cell_type": "code",
   "execution_count": 2,
   "id": "35f5483a",
   "metadata": {},
   "outputs": [],
   "source": [
    "name_list = ['A','A','B','A','A','A','B']\n",
    "value_list = [0.5,0.8,0.7,0.68,0.7,0.75,0.3] "
   ]
  },
  {
   "cell_type": "code",
   "execution_count": 3,
   "id": "f0db5dd7",
   "metadata": {},
   "outputs": [],
   "source": [
    "#升冪\n",
    "def quicksort_asec(data, left, right): # 輸入資料，和從兩邊開始的位置\n",
    "    if left >= right :            # 如果左邊大於右邊，就跳出function\n",
    "        return\n",
    "\n",
    "    i = left                      # 左邊的代理人\n",
    "    j = right                     # 右邊的代理人\n",
    "    key = data[left]                 # 基準點\n",
    "\n",
    "    while i != j:                  \n",
    "        while data[j] > key and i < j:   # 從右邊開始找，找比基準點小的值\n",
    "            j -= 1\n",
    "        while data[i] <= key and i < j:  # 從左邊開始找，找比基準點大的值\n",
    "            i += 1\n",
    "        if i < j:                        # 當左右代理人沒有相遇時，互換值\n",
    "            data[i], data[j] = data[j], data[i] \n",
    "\n",
    "    # 將基準點歸換至代理人相遇點\n",
    "    data[left] = data[i] \n",
    "    data[i] = key\n",
    "\n",
    "    quicksort_asec(data, left, i-1)   # 繼續處理較小部分的子循環\n",
    "    quicksort_asec(data, i+1, right)  # 繼續處理較大部分的子循環"
   ]
  },
  {
   "cell_type": "code",
   "execution_count": 4,
   "id": "7c4713cd",
   "metadata": {},
   "outputs": [],
   "source": [
    "#降冪\n",
    "def quicksort_desc(data, left, right): # 輸入資料，和從兩邊開始的位置\n",
    "    if left >= right :            # 如果左邊大於右邊，就跳出function\n",
    "        return\n",
    "\n",
    "    i = left                      # 左邊的代理人\n",
    "    j = right                     # 右邊的代理人\n",
    "    key = data[left]                 # 基準點\n",
    "\n",
    "    while i != j:                  \n",
    "        while data[j] < key and i < j:   # 從右邊開始找，找比基準點大的值\n",
    "            j -= 1\n",
    "        while data[i] >= key and i < j:  # 從左邊開始找，找比基準點小的值\n",
    "            i += 1\n",
    "        if i < j:                        # 當左右代理人沒有相遇時，互換值\n",
    "            data[i], data[j] = data[j], data[i] \n",
    "\n",
    "    # 將基準點歸換至代理人相遇點\n",
    "    data[left] = data[i] \n",
    "    data[i] = key\n",
    "\n",
    "    quicksort_desc(data, left, i-1)   # 繼續處理較小部分的子循環\n",
    "    quicksort_desc(data, i+1, right)  # 繼續處理較大部分的子循環"
   ]
  },
  {
   "cell_type": "code",
   "execution_count": 6,
   "id": "4b6883fc",
   "metadata": {},
   "outputs": [],
   "source": [
    "res_d = dict()\n",
    "\n",
    "#先groupby到dict\n",
    "for i in range(len(name_list)):\n",
    "    if name_list[i] not in res_d:\n",
    "        res_d[name_list[i]] = [value_list[i]]\n",
    "    else:\n",
    "        res_d[name_list[i]].append(value_list[i])\n",
    "\n",
    "#對每個key做排序\n",
    "for key, value in res_d.items():\n",
    "    tmp = value\n",
    "    quicksort_desc(tmp,0,len(tmp)-1)\n",
    "    res_d[key]=tmp        "
   ]
  },
  {
   "cell_type": "code",
   "execution_count": 7,
   "id": "7ac78a06",
   "metadata": {},
   "outputs": [
    {
     "data": {
      "text/plain": [
       "{'A': [0.8, 0.75, 0.7, 0.68, 0.5], 'B': [0.7, 0.3]}"
      ]
     },
     "execution_count": 7,
     "metadata": {},
     "output_type": "execute_result"
    }
   ],
   "source": [
    "res_d"
   ]
  }
 ],
 "metadata": {
  "kernelspec": {
   "display_name": "Python 3 (ipykernel)",
   "language": "python",
   "name": "python3"
  },
  "language_info": {
   "codemirror_mode": {
    "name": "ipython",
    "version": 3
   },
   "file_extension": ".py",
   "mimetype": "text/x-python",
   "name": "python",
   "nbconvert_exporter": "python",
   "pygments_lexer": "ipython3",
   "version": "3.8.12"
  }
 },
 "nbformat": 4,
 "nbformat_minor": 5
}
