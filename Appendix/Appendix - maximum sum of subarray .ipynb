{
 "cells": [
  {
   "cell_type": "markdown",
   "metadata": {},
   "source": [
    "Given an array, please find the subarray which sum is maximum in this array."
   ]
  },
  {
   "cell_type": "code",
   "execution_count": 1,
   "metadata": {},
   "outputs": [],
   "source": [
    "array = [-2,4,3,-3,-6,7,1,2,-1,0]"
   ]
  },
  {
   "cell_type": "code",
   "execution_count": 2,
   "metadata": {},
   "outputs": [],
   "source": [
    "tmp_sum = 0\n",
    "tmp_max = 0\n",
    "tmp_start_bool = True\n",
    "for i in range(len(array)):\n",
    "    if array[i] >0: #start tmp\n",
    "        if tmp_start_bool:\n",
    "            tmp_start = i\n",
    "            tmp_start_bool=False\n",
    "        tmp_sum+= array[i]\n",
    "        \n",
    "    if array[i] <0: #end tmp\n",
    "        tmp_end=i\n",
    "        if tmp_sum>tmp_max: \n",
    "            tmp_max=tmp_sum\n",
    "            tmp_end=i-1\n",
    "            tmp_start_bool = True\n",
    "            tmp_sum=0"
   ]
  },
  {
   "cell_type": "code",
   "execution_count": 3,
   "metadata": {},
   "outputs": [
    {
     "name": "stdout",
     "output_type": "stream",
     "text": [
      "start:  5\n",
      "end:  7\n",
      "sum:  10\n"
     ]
    }
   ],
   "source": [
    "print('start: ',tmp_start)    \n",
    "print('end: ',tmp_end)    \n",
    "print('sum: ',tmp_max)"
   ]
  }
 ],
 "metadata": {
  "kernelspec": {
   "display_name": "Python 3",
   "language": "python",
   "name": "python3"
  },
  "language_info": {
   "codemirror_mode": {
    "name": "ipython",
    "version": 3
   },
   "file_extension": ".py",
   "mimetype": "text/x-python",
   "name": "python",
   "nbconvert_exporter": "python",
   "pygments_lexer": "ipython3",
   "version": "3.7.4"
  }
 },
 "nbformat": 4,
 "nbformat_minor": 2
}
